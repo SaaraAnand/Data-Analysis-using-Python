{
  "nbformat": 4,
  "nbformat_minor": 0,
  "metadata": {
    "colab": {
      "provenance": []
    },
    "kernelspec": {
      "name": "python3",
      "display_name": "Python 3"
    },
    "language_info": {
      "name": "python"
    }
  },
  "cells": [
    {
      "cell_type": "code",
      "execution_count": null,
      "metadata": {
        "colab": {
          "base_uri": "https://localhost:8080/"
        },
        "id": "TEXPse9TxY0R",
        "outputId": "e87524c6-4907-43a6-d50f-62373acbb722"
      },
      "outputs": [
        {
          "output_type": "execute_result",
          "data": {
            "text/plain": [
              "array([3, 0, 3, 3, 7, 9])"
            ]
          },
          "metadata": {},
          "execution_count": 21
        }
      ],
      "source": [
        "import numpy as np\n",
        "np.random.seed(0) # seed for reproducibility\n",
        "x1 = np.random.randint(10, size=6) # One-dimensional array\n",
        "x2 = np.random.randint(10, size=(3, 4)) # Two-dimensional array\n",
        "x3 = np.random.randint(10, size=(3, 4, 5)) # Three-dimensional array\n",
        "x1[0] = 3.14159 # this will be truncated!\n",
        "x1\n"
      ]
    },
    {
      "cell_type": "code",
      "source": [
        "x = np.arange(10)\n",
        "x"
      ],
      "metadata": {
        "colab": {
          "base_uri": "https://localhost:8080/"
        },
        "id": "37hoN6GL22nx",
        "outputId": "2cc9597f-59b8-428a-a260-a5d194c0f666"
      },
      "execution_count": null,
      "outputs": [
        {
          "output_type": "execute_result",
          "data": {
            "text/plain": [
              "array([0, 1, 2, 3, 4, 5, 6, 7, 8, 9])"
            ]
          },
          "metadata": {},
          "execution_count": 22
        }
      ]
    },
    {
      "cell_type": "code",
      "source": [
        "x[:5] # first five elements"
      ],
      "metadata": {
        "colab": {
          "base_uri": "https://localhost:8080/"
        },
        "id": "UroA6OiH222h",
        "outputId": "299111e0-c6ff-46e0-b81e-abb94eb1da1d"
      },
      "execution_count": null,
      "outputs": [
        {
          "output_type": "execute_result",
          "data": {
            "text/plain": [
              "array([0, 1, 2, 3, 4])"
            ]
          },
          "metadata": {},
          "execution_count": 23
        }
      ]
    },
    {
      "cell_type": "code",
      "source": [
        "x[5:] # elements after index 5"
      ],
      "metadata": {
        "colab": {
          "base_uri": "https://localhost:8080/"
        },
        "id": "am4CJ-do229_",
        "outputId": "3d1922ad-61db-4c3f-b3f5-007983661236"
      },
      "execution_count": null,
      "outputs": [
        {
          "output_type": "execute_result",
          "data": {
            "text/plain": [
              "array([5, 6, 7, 8, 9])"
            ]
          },
          "metadata": {},
          "execution_count": 24
        }
      ]
    },
    {
      "cell_type": "code",
      "source": [
        "x[4:7] # middle sub-array"
      ],
      "metadata": {
        "colab": {
          "base_uri": "https://localhost:8080/"
        },
        "id": "HxUuNBSL23DX",
        "outputId": "d17a9300-dead-4229-858d-378084f8aeac"
      },
      "execution_count": null,
      "outputs": [
        {
          "output_type": "execute_result",
          "data": {
            "text/plain": [
              "array([4, 5, 6])"
            ]
          },
          "metadata": {},
          "execution_count": 25
        }
      ]
    },
    {
      "cell_type": "code",
      "source": [
        "x[::2] # every other element"
      ],
      "metadata": {
        "colab": {
          "base_uri": "https://localhost:8080/"
        },
        "id": "6q47cUif23Gq",
        "outputId": "e448104b-5da8-412f-9b32-c984f1ac2878"
      },
      "execution_count": null,
      "outputs": [
        {
          "output_type": "execute_result",
          "data": {
            "text/plain": [
              "array([0, 2, 4, 6, 8])"
            ]
          },
          "metadata": {},
          "execution_count": 26
        }
      ]
    },
    {
      "cell_type": "code",
      "source": [
        "x[1::2] # every other element, starting at index 1"
      ],
      "metadata": {
        "colab": {
          "base_uri": "https://localhost:8080/"
        },
        "id": "H74oSVpZ23Sq",
        "outputId": "41517ddc-dcac-4ab0-eab1-93683354ad62"
      },
      "execution_count": null,
      "outputs": [
        {
          "output_type": "execute_result",
          "data": {
            "text/plain": [
              "array([1, 3, 5, 7, 9])"
            ]
          },
          "metadata": {},
          "execution_count": 27
        }
      ]
    },
    {
      "cell_type": "code",
      "source": [
        "x[::-1] # all elements, reversed"
      ],
      "metadata": {
        "colab": {
          "base_uri": "https://localhost:8080/"
        },
        "id": "efiaAioo3WJ-",
        "outputId": "73797709-6e96-413e-d8ec-3b6a13c471fe"
      },
      "execution_count": null,
      "outputs": [
        {
          "output_type": "execute_result",
          "data": {
            "text/plain": [
              "array([9, 8, 7, 6, 5, 4, 3, 2, 1, 0])"
            ]
          },
          "metadata": {},
          "execution_count": 28
        }
      ]
    },
    {
      "cell_type": "code",
      "source": [
        "x[5::-2] # reversed every other from index 5"
      ],
      "metadata": {
        "colab": {
          "base_uri": "https://localhost:8080/"
        },
        "id": "2pMNhv0K3avj",
        "outputId": "b4e88b89-e9b2-475d-ed8f-77e3c9f23be0"
      },
      "execution_count": null,
      "outputs": [
        {
          "output_type": "execute_result",
          "data": {
            "text/plain": [
              "array([5, 3, 1])"
            ]
          },
          "metadata": {},
          "execution_count": 29
        }
      ]
    },
    {
      "cell_type": "code",
      "source": [
        "x2"
      ],
      "metadata": {
        "colab": {
          "base_uri": "https://localhost:8080/"
        },
        "id": "n21r2A134PsS",
        "outputId": "a6e547e4-ed63-4d02-8908-8235d605e12d"
      },
      "execution_count": null,
      "outputs": [
        {
          "output_type": "execute_result",
          "data": {
            "text/plain": [
              "array([[3, 5, 2, 4],\n",
              "       [7, 6, 8, 8],\n",
              "       [1, 6, 7, 7]])"
            ]
          },
          "metadata": {},
          "execution_count": 30
        }
      ]
    },
    {
      "cell_type": "code",
      "source": [
        "x2[:2, :3] # two rows, three columns"
      ],
      "metadata": {
        "colab": {
          "base_uri": "https://localhost:8080/"
        },
        "id": "7e7jc9k_4Sjh",
        "outputId": "88fa5294-c655-402c-a354-4127ed05105a"
      },
      "execution_count": null,
      "outputs": [
        {
          "output_type": "execute_result",
          "data": {
            "text/plain": [
              "array([[3, 5, 2],\n",
              "       [7, 6, 8]])"
            ]
          },
          "metadata": {},
          "execution_count": 31
        }
      ]
    },
    {
      "cell_type": "code",
      "source": [
        "x2[:3, ::2] # all rows, every other column"
      ],
      "metadata": {
        "colab": {
          "base_uri": "https://localhost:8080/"
        },
        "id": "rXrvqAhs4SmV",
        "outputId": "b2271775-6bc6-43af-8c15-a178afc3fae1"
      },
      "execution_count": null,
      "outputs": [
        {
          "output_type": "execute_result",
          "data": {
            "text/plain": [
              "array([[3, 2],\n",
              "       [7, 8],\n",
              "       [1, 7]])"
            ]
          },
          "metadata": {},
          "execution_count": 32
        }
      ]
    },
    {
      "cell_type": "code",
      "source": [
        "x2[::-1, ::-1]"
      ],
      "metadata": {
        "colab": {
          "base_uri": "https://localhost:8080/"
        },
        "id": "Lx2yHkfE4So9",
        "outputId": "093dd09a-ee07-4a34-9c61-877d441fd605"
      },
      "execution_count": null,
      "outputs": [
        {
          "output_type": "execute_result",
          "data": {
            "text/plain": [
              "array([[7, 7, 6, 1],\n",
              "       [8, 8, 6, 7],\n",
              "       [4, 2, 5, 3]])"
            ]
          },
          "metadata": {},
          "execution_count": 33
        }
      ]
    },
    {
      "cell_type": "code",
      "source": [
        "print(x2[:, 0]) # first column of x2"
      ],
      "metadata": {
        "colab": {
          "base_uri": "https://localhost:8080/"
        },
        "id": "aPCz0NNv4Sri",
        "outputId": "f05d16be-5e0f-4067-9a31-2953ad587875"
      },
      "execution_count": null,
      "outputs": [
        {
          "output_type": "stream",
          "name": "stdout",
          "text": [
            "[3 7 1]\n"
          ]
        }
      ]
    },
    {
      "cell_type": "code",
      "source": [
        "print(x2[0, :]) # first row of x2"
      ],
      "metadata": {
        "colab": {
          "base_uri": "https://localhost:8080/"
        },
        "id": "7FBocywk4Suc",
        "outputId": "d1912946-ca28-49ef-89c0-7d52235dbd48"
      },
      "execution_count": null,
      "outputs": [
        {
          "output_type": "stream",
          "name": "stdout",
          "text": [
            "[3 5 2 4]\n"
          ]
        }
      ]
    },
    {
      "cell_type": "code",
      "source": [
        "print(x2[0]) # equivalent to x2[0, :]"
      ],
      "metadata": {
        "colab": {
          "base_uri": "https://localhost:8080/"
        },
        "id": "GCa0iNKr4Sx4",
        "outputId": "b28a435a-9578-4b05-8e1b-987233908424"
      },
      "execution_count": null,
      "outputs": [
        {
          "output_type": "stream",
          "name": "stdout",
          "text": [
            "[3 5 2 4]\n"
          ]
        }
      ]
    },
    {
      "cell_type": "code",
      "source": [
        "print(x2)"
      ],
      "metadata": {
        "colab": {
          "base_uri": "https://localhost:8080/"
        },
        "id": "zDxMWnPX4oGd",
        "outputId": "265b2811-0abc-4b8f-c400-aecb1044e1b3"
      },
      "execution_count": null,
      "outputs": [
        {
          "output_type": "stream",
          "name": "stdout",
          "text": [
            "[[3 5 2 4]\n",
            " [7 6 8 8]\n",
            " [1 6 7 7]]\n"
          ]
        }
      ]
    },
    {
      "cell_type": "code",
      "source": [
        "x2_sub = x2[:2, :2]\n",
        "print(x2_sub)\n"
      ],
      "metadata": {
        "colab": {
          "base_uri": "https://localhost:8080/"
        },
        "id": "b0KBZvwO4oI3",
        "outputId": "7e393122-0537-4e89-ece4-94cbabbde50f"
      },
      "execution_count": null,
      "outputs": [
        {
          "output_type": "stream",
          "name": "stdout",
          "text": [
            "[[3 5]\n",
            " [7 6]]\n"
          ]
        }
      ]
    },
    {
      "cell_type": "code",
      "source": [
        "x2_sub[0, 0] = 99\n",
        "print(x2_sub)\n"
      ],
      "metadata": {
        "colab": {
          "base_uri": "https://localhost:8080/"
        },
        "id": "IuxgN5Fc4oK5",
        "outputId": "1b9b9dd2-e4a4-4d84-8736-8964ad924b91"
      },
      "execution_count": null,
      "outputs": [
        {
          "output_type": "stream",
          "name": "stdout",
          "text": [
            "[[99  5]\n",
            " [ 7  6]]\n"
          ]
        }
      ]
    },
    {
      "cell_type": "code",
      "source": [
        "print(x2)\n"
      ],
      "metadata": {
        "colab": {
          "base_uri": "https://localhost:8080/"
        },
        "id": "okvLdZhO4oOQ",
        "outputId": "d3d5f59a-70ba-490d-b63d-f9bf9418eefb"
      },
      "execution_count": null,
      "outputs": [
        {
          "output_type": "stream",
          "name": "stdout",
          "text": [
            "[[99  5  2  4]\n",
            " [ 7  6  8  8]\n",
            " [ 1  6  7  7]]\n"
          ]
        }
      ]
    },
    {
      "cell_type": "code",
      "source": [
        "x2_sub_copy = x2[:2, :2].copy()\n",
        "print(x2_sub_copy)\n"
      ],
      "metadata": {
        "colab": {
          "base_uri": "https://localhost:8080/"
        },
        "id": "ProK_Mal5sJ9",
        "outputId": "dcba8ff6-66d6-406b-c7ec-bc1779bff299"
      },
      "execution_count": null,
      "outputs": [
        {
          "output_type": "stream",
          "name": "stdout",
          "text": [
            "[[99  5]\n",
            " [ 7  6]]\n"
          ]
        }
      ]
    },
    {
      "cell_type": "code",
      "source": [
        "x2_sub_copy[0, 0] = 42\n",
        "print(x2_sub_copy)"
      ],
      "metadata": {
        "colab": {
          "base_uri": "https://localhost:8080/"
        },
        "id": "RDOObLPE5tQ0",
        "outputId": "6d40bd03-1c4e-4852-9a8b-0dab62a79c93"
      },
      "execution_count": null,
      "outputs": [
        {
          "output_type": "stream",
          "name": "stdout",
          "text": [
            "[[42  5]\n",
            " [ 7  6]]\n"
          ]
        }
      ]
    },
    {
      "cell_type": "code",
      "source": [
        "print(x2)\n"
      ],
      "metadata": {
        "colab": {
          "base_uri": "https://localhost:8080/"
        },
        "id": "8f6U6ewf5tgw",
        "outputId": "2c18c9c7-0ad9-4ad7-8d1c-2ba99211f5ba"
      },
      "execution_count": null,
      "outputs": [
        {
          "output_type": "stream",
          "name": "stdout",
          "text": [
            "[[99  5  2  4]\n",
            " [ 7  6  8  8]\n",
            " [ 1  6  7  7]]\n"
          ]
        }
      ]
    },
    {
      "cell_type": "code",
      "source": [
        "grid = np.arange(1, 10).reshape((3, 3))\n",
        "print(grid)\n"
      ],
      "metadata": {
        "colab": {
          "base_uri": "https://localhost:8080/"
        },
        "id": "FUZ5j3gB5tkF",
        "outputId": "e3b63c53-f64b-4e72-9060-ccbe176ce5b1"
      },
      "execution_count": null,
      "outputs": [
        {
          "output_type": "stream",
          "name": "stdout",
          "text": [
            "[[1 2 3]\n",
            " [4 5 6]\n",
            " [7 8 9]]\n"
          ]
        }
      ]
    },
    {
      "cell_type": "code",
      "source": [
        "x = np.array([1, 2, 3])\n",
        "# row vector via reshape\n",
        "x.reshape((1, 3))"
      ],
      "metadata": {
        "colab": {
          "base_uri": "https://localhost:8080/"
        },
        "id": "WfJyQ6g35t5l",
        "outputId": "1a958be5-aa80-4979-aeb2-348fb40cc320"
      },
      "execution_count": null,
      "outputs": [
        {
          "output_type": "execute_result",
          "data": {
            "text/plain": [
              "array([[1, 2, 3]])"
            ]
          },
          "metadata": {},
          "execution_count": 45
        }
      ]
    },
    {
      "cell_type": "code",
      "source": [
        " # row vector via newaxis\n",
        "x[np.newaxis, :]\n"
      ],
      "metadata": {
        "colab": {
          "base_uri": "https://localhost:8080/"
        },
        "id": "Y7tzkZYs6UY6",
        "outputId": "852b2ed5-f902-4cab-9b01-58267d59c741"
      },
      "execution_count": null,
      "outputs": [
        {
          "output_type": "execute_result",
          "data": {
            "text/plain": [
              "array([[1, 2, 3]])"
            ]
          },
          "metadata": {},
          "execution_count": 47
        }
      ]
    },
    {
      "cell_type": "code",
      "source": [
        " # column vector via reshape\n",
        "x.reshape((3, 1))\n"
      ],
      "metadata": {
        "colab": {
          "base_uri": "https://localhost:8080/"
        },
        "id": "l5h4DTHM6Uf7",
        "outputId": "db816e61-9882-431b-b3c7-2c44e4dcaffa"
      },
      "execution_count": null,
      "outputs": [
        {
          "output_type": "execute_result",
          "data": {
            "text/plain": [
              "array([[1],\n",
              "       [2],\n",
              "       [3]])"
            ]
          },
          "metadata": {},
          "execution_count": 48
        }
      ]
    },
    {
      "cell_type": "code",
      "source": [
        " # column vector via newaxis\n",
        "x[:, np.newaxis]\n"
      ],
      "metadata": {
        "colab": {
          "base_uri": "https://localhost:8080/"
        },
        "id": "zxAOCr-v6UjM",
        "outputId": "06424b2a-8b31-4136-d076-eed738da4eb2"
      },
      "execution_count": null,
      "outputs": [
        {
          "output_type": "execute_result",
          "data": {
            "text/plain": [
              "array([[1],\n",
              "       [2],\n",
              "       [3]])"
            ]
          },
          "metadata": {},
          "execution_count": 49
        }
      ]
    },
    {
      "cell_type": "code",
      "source": [
        "x = np.array([1, 2, 3])\n",
        "y = np.array([3, 2, 1])\n",
        "np.concatenate([x, y])"
      ],
      "metadata": {
        "colab": {
          "base_uri": "https://localhost:8080/"
        },
        "id": "CdGTXRlZ63Tu",
        "outputId": "0aa9609a-489c-4f47-fb54-8d86bb889c6e"
      },
      "execution_count": null,
      "outputs": [
        {
          "output_type": "execute_result",
          "data": {
            "text/plain": [
              "array([1, 2, 3, 3, 2, 1])"
            ]
          },
          "metadata": {},
          "execution_count": 50
        }
      ]
    },
    {
      "cell_type": "code",
      "source": [
        "z = [99, 99, 99]\n",
        "print(np.concatenate([x, y, z]))\n"
      ],
      "metadata": {
        "colab": {
          "base_uri": "https://localhost:8080/"
        },
        "id": "tG3Mrn8Q63WC",
        "outputId": "0ef8c900-0bed-4a57-b687-5d8266d10448"
      },
      "execution_count": null,
      "outputs": [
        {
          "output_type": "stream",
          "name": "stdout",
          "text": [
            "[ 1  2  3  3  2  1 99 99 99]\n"
          ]
        }
      ]
    },
    {
      "cell_type": "code",
      "source": [
        "grid = np.array([[1, 2, 3],\n",
        "[4, 5, 6]])\n"
      ],
      "metadata": {
        "id": "tQ75bsCb63YD"
      },
      "execution_count": null,
      "outputs": []
    },
    {
      "cell_type": "code",
      "source": [
        " # concatenate along the first axis\n",
        "np.concatenate([grid, grid])\n"
      ],
      "metadata": {
        "colab": {
          "base_uri": "https://localhost:8080/"
        },
        "id": "yQgJZmvl63bf",
        "outputId": "a32fcf84-02ac-4108-f4d5-dde78039043e"
      },
      "execution_count": null,
      "outputs": [
        {
          "output_type": "execute_result",
          "data": {
            "text/plain": [
              "array([[1, 2, 3],\n",
              "       [4, 5, 6],\n",
              "       [1, 2, 3],\n",
              "       [4, 5, 6]])"
            ]
          },
          "metadata": {},
          "execution_count": 53
        }
      ]
    },
    {
      "cell_type": "code",
      "source": [
        "# concatenate along the second axis (zero-indexed)\n",
        "np.concatenate([grid, grid], axis=1)\n"
      ],
      "metadata": {
        "colab": {
          "base_uri": "https://localhost:8080/"
        },
        "id": "W233jwnW7CWi",
        "outputId": "0df1de8e-9786-48a3-c8ba-bec423c614ab"
      },
      "execution_count": null,
      "outputs": [
        {
          "output_type": "execute_result",
          "data": {
            "text/plain": [
              "array([[1, 2, 3, 1, 2, 3],\n",
              "       [4, 5, 6, 4, 5, 6]])"
            ]
          },
          "metadata": {},
          "execution_count": 54
        }
      ]
    },
    {
      "cell_type": "code",
      "source": [
        "x = np.array([1, 2, 3])\n",
        "grid = np.array([[9, 8, 7],\n",
        " [6, 5, 4]])\n",
        "# vertically stack the arrays\n",
        "np.vstack([x, grid])\n"
      ],
      "metadata": {
        "colab": {
          "base_uri": "https://localhost:8080/"
        },
        "id": "x9qq-86X7FW1",
        "outputId": "567b033d-5e16-4a96-ec46-72897fc4b1e5"
      },
      "execution_count": null,
      "outputs": [
        {
          "output_type": "execute_result",
          "data": {
            "text/plain": [
              "array([[1, 2, 3],\n",
              "       [9, 8, 7],\n",
              "       [6, 5, 4]])"
            ]
          },
          "metadata": {},
          "execution_count": 55
        }
      ]
    },
    {
      "cell_type": "code",
      "source": [
        " # horizontally stack the arrays\n",
        "y = np.array([[99],\n",
        " [99]])\n",
        "np.hstack([grid, y])"
      ],
      "metadata": {
        "colab": {
          "base_uri": "https://localhost:8080/"
        },
        "id": "vb8yTxf47Ilk",
        "outputId": "7a43ebef-fefc-4b05-c17c-6e27b30956dc"
      },
      "execution_count": null,
      "outputs": [
        {
          "output_type": "execute_result",
          "data": {
            "text/plain": [
              "array([[ 9,  8,  7, 99],\n",
              "       [ 6,  5,  4, 99]])"
            ]
          },
          "metadata": {},
          "execution_count": 56
        }
      ]
    },
    {
      "cell_type": "code",
      "source": [
        "x = [1, 2, 3, 99, 99, 3, 2, 1]\n",
        "x1, x2, x3 = np.split(x, [3, 5])\n",
        "print(x1, x2, x3)"
      ],
      "metadata": {
        "colab": {
          "base_uri": "https://localhost:8080/"
        },
        "id": "daYPDLkW7Inr",
        "outputId": "99adbb01-fd37-47bf-954b-b10e6e5d8e19"
      },
      "execution_count": null,
      "outputs": [
        {
          "output_type": "stream",
          "name": "stdout",
          "text": [
            "[1 2 3] [99 99] [3 2 1]\n"
          ]
        }
      ]
    },
    {
      "cell_type": "code",
      "source": [
        "grid = np.arange(16).reshape((4, 4))\n",
        "grid"
      ],
      "metadata": {
        "colab": {
          "base_uri": "https://localhost:8080/"
        },
        "id": "2zRg3ZUv73WT",
        "outputId": "c058239a-a883-4be0-b945-4f5d3eedae04"
      },
      "execution_count": null,
      "outputs": [
        {
          "output_type": "execute_result",
          "data": {
            "text/plain": [
              "array([[ 0,  1,  2,  3],\n",
              "       [ 4,  5,  6,  7],\n",
              "       [ 8,  9, 10, 11],\n",
              "       [12, 13, 14, 15]])"
            ]
          },
          "metadata": {},
          "execution_count": 58
        }
      ]
    },
    {
      "cell_type": "code",
      "source": [
        "upper, lower = np.vsplit(grid, [2])\n",
        "print(upper)\n",
        "print(lower)"
      ],
      "metadata": {
        "colab": {
          "base_uri": "https://localhost:8080/"
        },
        "id": "rKSe1qyB73Z5",
        "outputId": "23821935-9946-405c-d8e5-bf781d04baf5"
      },
      "execution_count": null,
      "outputs": [
        {
          "output_type": "stream",
          "name": "stdout",
          "text": [
            "[[0 1 2 3]\n",
            " [4 5 6 7]]\n",
            "[[ 8  9 10 11]\n",
            " [12 13 14 15]]\n"
          ]
        }
      ]
    },
    {
      "cell_type": "code",
      "source": [
        "left, right = np.hsplit(grid, [2])\n",
        "print(left)\n",
        "print(right)"
      ],
      "metadata": {
        "colab": {
          "base_uri": "https://localhost:8080/"
        },
        "id": "zVM4ArRE7IrG",
        "outputId": "80adf29d-1ed6-4e46-be56-c32660fb9294"
      },
      "execution_count": null,
      "outputs": [
        {
          "output_type": "stream",
          "name": "stdout",
          "text": [
            "[[ 0  1]\n",
            " [ 4  5]\n",
            " [ 8  9]\n",
            " [12 13]]\n",
            "[[ 2  3]\n",
            " [ 6  7]\n",
            " [10 11]\n",
            " [14 15]]\n"
          ]
        }
      ]
    },
    {
      "cell_type": "code",
      "source": [
        "import numpy as np\n",
        "x = np.array([2, 3, 5, 7, 11, 13])\n",
        "x * 2\n"
      ],
      "metadata": {
        "colab": {
          "base_uri": "https://localhost:8080/"
        },
        "id": "qlRdydQC8pW-",
        "outputId": "c56a26aa-de3c-4c9d-f0fe-b94c8cec121c"
      },
      "execution_count": null,
      "outputs": [
        {
          "output_type": "execute_result",
          "data": {
            "text/plain": [
              "array([ 4,  6, 10, 14, 22, 26])"
            ]
          },
          "metadata": {},
          "execution_count": 61
        }
      ]
    },
    {
      "cell_type": "code",
      "source": [
        "data = ['peter', 'Paul', 'MARY', 'gUIDO']\n",
        "[s.capitalize() for s in data]\n"
      ],
      "metadata": {
        "colab": {
          "base_uri": "https://localhost:8080/"
        },
        "id": "wSqdP_GY8qSy",
        "outputId": "ae85719a-0718-466f-cef1-796840ecfd23"
      },
      "execution_count": null,
      "outputs": [
        {
          "output_type": "execute_result",
          "data": {
            "text/plain": [
              "['Peter', 'Paul', 'Mary', 'Guido']"
            ]
          },
          "metadata": {},
          "execution_count": 62
        }
      ]
    },
    {
      "cell_type": "code",
      "source": [
        "data = ['peter', 'Paul', 'MARY', 'gUIDO']\n",
        "[s.capitalize() for s in data]\n"
      ],
      "metadata": {
        "colab": {
          "base_uri": "https://localhost:8080/"
        },
        "id": "gldMp-q_8twj",
        "outputId": "7a921e8c-acd8-40c5-8edf-8e1ea47b952a"
      },
      "execution_count": null,
      "outputs": [
        {
          "output_type": "execute_result",
          "data": {
            "text/plain": [
              "['Peter', 'Paul', 'Mary', 'Guido']"
            ]
          },
          "metadata": {},
          "execution_count": 104
        }
      ]
    },
    {
      "cell_type": "code",
      "source": [
        "import pandas as pd\n",
        "names = pd.Series(data)\n",
        "names"
      ],
      "metadata": {
        "colab": {
          "base_uri": "https://localhost:8080/"
        },
        "id": "NbYS25DE8tzK",
        "outputId": "dd81e2c0-67d5-4332-def9-55e9eeebc170"
      },
      "execution_count": null,
      "outputs": [
        {
          "output_type": "execute_result",
          "data": {
            "text/plain": [
              "0    peter\n",
              "1     Paul\n",
              "2     None\n",
              "3     MARY\n",
              "4    gUIDO\n",
              "dtype: object"
            ]
          },
          "metadata": {},
          "execution_count": 65
        }
      ]
    },
    {
      "cell_type": "code",
      "source": [
        "names.str.capitalize()\n"
      ],
      "metadata": {
        "colab": {
          "base_uri": "https://localhost:8080/"
        },
        "id": "4jVwemE_8t2q",
        "outputId": "67e1041b-291d-49aa-d69f-40ba688212f7"
      },
      "execution_count": null,
      "outputs": [
        {
          "output_type": "execute_result",
          "data": {
            "text/plain": [
              "0    Peter\n",
              "1     Paul\n",
              "2     None\n",
              "3     Mary\n",
              "4    Guido\n",
              "dtype: object"
            ]
          },
          "metadata": {},
          "execution_count": 66
        }
      ]
    },
    {
      "cell_type": "code",
      "source": [
        "monte = pd.Series(['Graham Chapman', 'John Cleese', 'Terry Gilliam',\n",
        " 'Eric Idle', 'Terry Jones', 'Michael Palin'])\n",
        "monte"
      ],
      "metadata": {
        "colab": {
          "base_uri": "https://localhost:8080/"
        },
        "id": "nmhkeGMD96bV",
        "outputId": "82b6086d-17e0-4195-d999-3559b5350f2d"
      },
      "execution_count": null,
      "outputs": [
        {
          "output_type": "execute_result",
          "data": {
            "text/plain": [
              "0    Graham Chapman\n",
              "1       John Cleese\n",
              "2     Terry Gilliam\n",
              "3         Eric Idle\n",
              "4       Terry Jones\n",
              "5     Michael Palin\n",
              "dtype: object"
            ]
          },
          "metadata": {},
          "execution_count": 72
        }
      ]
    },
    {
      "cell_type": "code",
      "source": [
        "monte.str.lower()\n"
      ],
      "metadata": {
        "colab": {
          "base_uri": "https://localhost:8080/"
        },
        "id": "4GhciaAk96du",
        "outputId": "055222b2-53e9-4e89-a032-ffa89b80f9e9"
      },
      "execution_count": null,
      "outputs": [
        {
          "output_type": "execute_result",
          "data": {
            "text/plain": [
              "0    graham chapman\n",
              "1       john cleese\n",
              "2     terry gilliam\n",
              "3         eric idle\n",
              "4       terry jones\n",
              "5     michael palin\n",
              "dtype: object"
            ]
          },
          "metadata": {},
          "execution_count": 68
        }
      ]
    },
    {
      "cell_type": "code",
      "source": [
        "monte.str.len()"
      ],
      "metadata": {
        "colab": {
          "base_uri": "https://localhost:8080/"
        },
        "id": "0VYPKoi496hI",
        "outputId": "e353de0a-d658-495d-b016-4eb82fe6ed46"
      },
      "execution_count": null,
      "outputs": [
        {
          "output_type": "execute_result",
          "data": {
            "text/plain": [
              "0    14\n",
              "1    11\n",
              "2    13\n",
              "3     9\n",
              "4    11\n",
              "5    13\n",
              "dtype: int64"
            ]
          },
          "metadata": {},
          "execution_count": 69
        }
      ]
    },
    {
      "cell_type": "code",
      "source": [
        "monte.str.startswith('T')"
      ],
      "metadata": {
        "colab": {
          "base_uri": "https://localhost:8080/"
        },
        "id": "gSQWkn-4-Gij",
        "outputId": "5a074771-e6d3-4cf8-ebc8-0614a83e69b0"
      },
      "execution_count": null,
      "outputs": [
        {
          "output_type": "execute_result",
          "data": {
            "text/plain": [
              "0    False\n",
              "1    False\n",
              "2     True\n",
              "3    False\n",
              "4     True\n",
              "5    False\n",
              "dtype: bool"
            ]
          },
          "metadata": {},
          "execution_count": 70
        }
      ]
    },
    {
      "cell_type": "code",
      "source": [
        "monte.str.split()\n"
      ],
      "metadata": {
        "colab": {
          "base_uri": "https://localhost:8080/"
        },
        "id": "4WcLNgl2-Gl_",
        "outputId": "bb293e00-322b-4862-f6c0-464c437d2d04"
      },
      "execution_count": null,
      "outputs": [
        {
          "output_type": "execute_result",
          "data": {
            "text/plain": [
              "0    [Graham, Chapman]\n",
              "1       [John, Cleese]\n",
              "2     [Terry, Gilliam]\n",
              "3         [Eric, Idle]\n",
              "4       [Terry, Jones]\n",
              "5     [Michael, Palin]\n",
              "dtype: object"
            ]
          },
          "metadata": {},
          "execution_count": 71
        }
      ]
    },
    {
      "cell_type": "code",
      "source": [
        "monte.str.extract('([A-Za-z]+)', expand=False)\n"
      ],
      "metadata": {
        "colab": {
          "base_uri": "https://localhost:8080/"
        },
        "id": "c1mWO2Qf-uFl",
        "outputId": "4db77769-4ef9-4d15-c6e3-f5651f070264"
      },
      "execution_count": null,
      "outputs": [
        {
          "output_type": "execute_result",
          "data": {
            "text/plain": [
              "0     Graham\n",
              "1       John\n",
              "2      Terry\n",
              "3       Eric\n",
              "4      Terry\n",
              "5    Michael\n",
              "dtype: object"
            ]
          },
          "metadata": {},
          "execution_count": 73
        }
      ]
    },
    {
      "cell_type": "code",
      "source": [
        "monte.str.findall(r'^[^AEIOU].*[^aeiou]$')\n"
      ],
      "metadata": {
        "colab": {
          "base_uri": "https://localhost:8080/"
        },
        "id": "oR-a7989-u6P",
        "outputId": "86106058-6a2f-4a3c-ccbd-6f93437efc05"
      },
      "execution_count": null,
      "outputs": [
        {
          "output_type": "execute_result",
          "data": {
            "text/plain": [
              "0    [Graham Chapman]\n",
              "1                  []\n",
              "2     [Terry Gilliam]\n",
              "3                  []\n",
              "4       [Terry Jones]\n",
              "5     [Michael Palin]\n",
              "dtype: object"
            ]
          },
          "metadata": {},
          "execution_count": 74
        }
      ]
    },
    {
      "cell_type": "code",
      "source": [
        "monte.str[0:3]"
      ],
      "metadata": {
        "colab": {
          "base_uri": "https://localhost:8080/"
        },
        "id": "nQhhnLUJ_J0I",
        "outputId": "f5af4231-50a8-4765-832c-47e4ee387dbc"
      },
      "execution_count": null,
      "outputs": [
        {
          "output_type": "execute_result",
          "data": {
            "text/plain": [
              "0    Gra\n",
              "1    Joh\n",
              "2    Ter\n",
              "3    Eri\n",
              "4    Ter\n",
              "5    Mic\n",
              "dtype: object"
            ]
          },
          "metadata": {},
          "execution_count": 75
        }
      ]
    },
    {
      "cell_type": "code",
      "source": [
        "monte.str.split().str.get(-1)\n"
      ],
      "metadata": {
        "colab": {
          "base_uri": "https://localhost:8080/"
        },
        "id": "7cOIU0hE_J3C",
        "outputId": "6097d61d-db0a-46b2-bc5b-cf113260d431"
      },
      "execution_count": null,
      "outputs": [
        {
          "output_type": "execute_result",
          "data": {
            "text/plain": [
              "0    Chapman\n",
              "1     Cleese\n",
              "2    Gilliam\n",
              "3       Idle\n",
              "4      Jones\n",
              "5      Palin\n",
              "dtype: object"
            ]
          },
          "metadata": {},
          "execution_count": 76
        }
      ]
    },
    {
      "cell_type": "code",
      "source": [
        "full_monte = pd.DataFrame({'name': monte,\n",
        " 'info': ['B|C|D', 'B|D', 'A|C',\n",
        " 'B|D', 'B|C', 'B|C|D']})\n",
        "full_monte\n"
      ],
      "metadata": {
        "colab": {
          "base_uri": "https://localhost:8080/",
          "height": 237
        },
        "id": "vuq93iuk_J4t",
        "outputId": "3c7ab39f-e1a0-47c4-e83a-356ca369669c"
      },
      "execution_count": null,
      "outputs": [
        {
          "output_type": "execute_result",
          "data": {
            "text/plain": [
              "             name   info\n",
              "0  Graham Chapman  B|C|D\n",
              "1     John Cleese    B|D\n",
              "2   Terry Gilliam    A|C\n",
              "3       Eric Idle    B|D\n",
              "4     Terry Jones    B|C\n",
              "5   Michael Palin  B|C|D"
            ],
            "text/html": [
              "\n",
              "\n",
              "  <div id=\"df-f7c4ecd2-cea0-4437-a394-d6b646c459dc\">\n",
              "    <div class=\"colab-df-container\">\n",
              "      <div>\n",
              "<style scoped>\n",
              "    .dataframe tbody tr th:only-of-type {\n",
              "        vertical-align: middle;\n",
              "    }\n",
              "\n",
              "    .dataframe tbody tr th {\n",
              "        vertical-align: top;\n",
              "    }\n",
              "\n",
              "    .dataframe thead th {\n",
              "        text-align: right;\n",
              "    }\n",
              "</style>\n",
              "<table border=\"1\" class=\"dataframe\">\n",
              "  <thead>\n",
              "    <tr style=\"text-align: right;\">\n",
              "      <th></th>\n",
              "      <th>name</th>\n",
              "      <th>info</th>\n",
              "    </tr>\n",
              "  </thead>\n",
              "  <tbody>\n",
              "    <tr>\n",
              "      <th>0</th>\n",
              "      <td>Graham Chapman</td>\n",
              "      <td>B|C|D</td>\n",
              "    </tr>\n",
              "    <tr>\n",
              "      <th>1</th>\n",
              "      <td>John Cleese</td>\n",
              "      <td>B|D</td>\n",
              "    </tr>\n",
              "    <tr>\n",
              "      <th>2</th>\n",
              "      <td>Terry Gilliam</td>\n",
              "      <td>A|C</td>\n",
              "    </tr>\n",
              "    <tr>\n",
              "      <th>3</th>\n",
              "      <td>Eric Idle</td>\n",
              "      <td>B|D</td>\n",
              "    </tr>\n",
              "    <tr>\n",
              "      <th>4</th>\n",
              "      <td>Terry Jones</td>\n",
              "      <td>B|C</td>\n",
              "    </tr>\n",
              "    <tr>\n",
              "      <th>5</th>\n",
              "      <td>Michael Palin</td>\n",
              "      <td>B|C|D</td>\n",
              "    </tr>\n",
              "  </tbody>\n",
              "</table>\n",
              "</div>\n",
              "      <button class=\"colab-df-convert\" onclick=\"convertToInteractive('df-f7c4ecd2-cea0-4437-a394-d6b646c459dc')\"\n",
              "              title=\"Convert this dataframe to an interactive table.\"\n",
              "              style=\"display:none;\">\n",
              "\n",
              "  <svg xmlns=\"http://www.w3.org/2000/svg\" height=\"24px\"viewBox=\"0 0 24 24\"\n",
              "       width=\"24px\">\n",
              "    <path d=\"M0 0h24v24H0V0z\" fill=\"none\"/>\n",
              "    <path d=\"M18.56 5.44l.94 2.06.94-2.06 2.06-.94-2.06-.94-.94-2.06-.94 2.06-2.06.94zm-11 1L8.5 8.5l.94-2.06 2.06-.94-2.06-.94L8.5 2.5l-.94 2.06-2.06.94zm10 10l.94 2.06.94-2.06 2.06-.94-2.06-.94-.94-2.06-.94 2.06-2.06.94z\"/><path d=\"M17.41 7.96l-1.37-1.37c-.4-.4-.92-.59-1.43-.59-.52 0-1.04.2-1.43.59L10.3 9.45l-7.72 7.72c-.78.78-.78 2.05 0 2.83L4 21.41c.39.39.9.59 1.41.59.51 0 1.02-.2 1.41-.59l7.78-7.78 2.81-2.81c.8-.78.8-2.07 0-2.86zM5.41 20L4 18.59l7.72-7.72 1.47 1.35L5.41 20z\"/>\n",
              "  </svg>\n",
              "      </button>\n",
              "\n",
              "\n",
              "\n",
              "    <div id=\"df-6554d01a-0df5-442d-95ca-a9f06c0ebaba\">\n",
              "      <button class=\"colab-df-quickchart\" onclick=\"quickchart('df-6554d01a-0df5-442d-95ca-a9f06c0ebaba')\"\n",
              "              title=\"Suggest charts.\"\n",
              "              style=\"display:none;\">\n",
              "\n",
              "<svg xmlns=\"http://www.w3.org/2000/svg\" height=\"24px\"viewBox=\"0 0 24 24\"\n",
              "     width=\"24px\">\n",
              "    <g>\n",
              "        <path d=\"M19 3H5c-1.1 0-2 .9-2 2v14c0 1.1.9 2 2 2h14c1.1 0 2-.9 2-2V5c0-1.1-.9-2-2-2zM9 17H7v-7h2v7zm4 0h-2V7h2v10zm4 0h-2v-4h2v4z\"/>\n",
              "    </g>\n",
              "</svg>\n",
              "      </button>\n",
              "    </div>\n",
              "\n",
              "<style>\n",
              "  .colab-df-quickchart {\n",
              "    background-color: #E8F0FE;\n",
              "    border: none;\n",
              "    border-radius: 50%;\n",
              "    cursor: pointer;\n",
              "    display: none;\n",
              "    fill: #1967D2;\n",
              "    height: 32px;\n",
              "    padding: 0 0 0 0;\n",
              "    width: 32px;\n",
              "  }\n",
              "\n",
              "  .colab-df-quickchart:hover {\n",
              "    background-color: #E2EBFA;\n",
              "    box-shadow: 0px 1px 2px rgba(60, 64, 67, 0.3), 0px 1px 3px 1px rgba(60, 64, 67, 0.15);\n",
              "    fill: #174EA6;\n",
              "  }\n",
              "\n",
              "  [theme=dark] .colab-df-quickchart {\n",
              "    background-color: #3B4455;\n",
              "    fill: #D2E3FC;\n",
              "  }\n",
              "\n",
              "  [theme=dark] .colab-df-quickchart:hover {\n",
              "    background-color: #434B5C;\n",
              "    box-shadow: 0px 1px 3px 1px rgba(0, 0, 0, 0.15);\n",
              "    filter: drop-shadow(0px 1px 2px rgba(0, 0, 0, 0.3));\n",
              "    fill: #FFFFFF;\n",
              "  }\n",
              "</style>\n",
              "\n",
              "    <script>\n",
              "      async function quickchart(key) {\n",
              "        const containerElement = document.querySelector('#' + key);\n",
              "        const charts = await google.colab.kernel.invokeFunction(\n",
              "            'suggestCharts', [key], {});\n",
              "      }\n",
              "    </script>\n",
              "\n",
              "      <script>\n",
              "\n",
              "function displayQuickchartButton(domScope) {\n",
              "  let quickchartButtonEl =\n",
              "    domScope.querySelector('#df-6554d01a-0df5-442d-95ca-a9f06c0ebaba button.colab-df-quickchart');\n",
              "  quickchartButtonEl.style.display =\n",
              "    google.colab.kernel.accessAllowed ? 'block' : 'none';\n",
              "}\n",
              "\n",
              "        displayQuickchartButton(document);\n",
              "      </script>\n",
              "      <style>\n",
              "    .colab-df-container {\n",
              "      display:flex;\n",
              "      flex-wrap:wrap;\n",
              "      gap: 12px;\n",
              "    }\n",
              "\n",
              "    .colab-df-convert {\n",
              "      background-color: #E8F0FE;\n",
              "      border: none;\n",
              "      border-radius: 50%;\n",
              "      cursor: pointer;\n",
              "      display: none;\n",
              "      fill: #1967D2;\n",
              "      height: 32px;\n",
              "      padding: 0 0 0 0;\n",
              "      width: 32px;\n",
              "    }\n",
              "\n",
              "    .colab-df-convert:hover {\n",
              "      background-color: #E2EBFA;\n",
              "      box-shadow: 0px 1px 2px rgba(60, 64, 67, 0.3), 0px 1px 3px 1px rgba(60, 64, 67, 0.15);\n",
              "      fill: #174EA6;\n",
              "    }\n",
              "\n",
              "    [theme=dark] .colab-df-convert {\n",
              "      background-color: #3B4455;\n",
              "      fill: #D2E3FC;\n",
              "    }\n",
              "\n",
              "    [theme=dark] .colab-df-convert:hover {\n",
              "      background-color: #434B5C;\n",
              "      box-shadow: 0px 1px 3px 1px rgba(0, 0, 0, 0.15);\n",
              "      filter: drop-shadow(0px 1px 2px rgba(0, 0, 0, 0.3));\n",
              "      fill: #FFFFFF;\n",
              "    }\n",
              "  </style>\n",
              "\n",
              "      <script>\n",
              "        const buttonEl =\n",
              "          document.querySelector('#df-f7c4ecd2-cea0-4437-a394-d6b646c459dc button.colab-df-convert');\n",
              "        buttonEl.style.display =\n",
              "          google.colab.kernel.accessAllowed ? 'block' : 'none';\n",
              "\n",
              "        async function convertToInteractive(key) {\n",
              "          const element = document.querySelector('#df-f7c4ecd2-cea0-4437-a394-d6b646c459dc');\n",
              "          const dataTable =\n",
              "            await google.colab.kernel.invokeFunction('convertToInteractive',\n",
              "                                                     [key], {});\n",
              "          if (!dataTable) return;\n",
              "\n",
              "          const docLinkHtml = 'Like what you see? Visit the ' +\n",
              "            '<a target=\"_blank\" href=https://colab.research.google.com/notebooks/data_table.ipynb>data table notebook</a>'\n",
              "            + ' to learn more about interactive tables.';\n",
              "          element.innerHTML = '';\n",
              "          dataTable['output_type'] = 'display_data';\n",
              "          await google.colab.output.renderOutput(dataTable, element);\n",
              "          const docLink = document.createElement('div');\n",
              "          docLink.innerHTML = docLinkHtml;\n",
              "          element.appendChild(docLink);\n",
              "        }\n",
              "      </script>\n",
              "    </div>\n",
              "  </div>\n"
            ]
          },
          "metadata": {},
          "execution_count": 77
        }
      ]
    },
    {
      "cell_type": "code",
      "source": [
        "full_monte['info'].str.get_dummies('|')"
      ],
      "metadata": {
        "colab": {
          "base_uri": "https://localhost:8080/",
          "height": 237
        },
        "id": "0tAcTZKo_J8E",
        "outputId": "7e7ea738-0c75-4764-f49f-c2388ae3696b"
      },
      "execution_count": null,
      "outputs": [
        {
          "output_type": "execute_result",
          "data": {
            "text/plain": [
              "   A  B  C  D\n",
              "0  0  1  1  1\n",
              "1  0  1  0  1\n",
              "2  1  0  1  0\n",
              "3  0  1  0  1\n",
              "4  0  1  1  0\n",
              "5  0  1  1  1"
            ],
            "text/html": [
              "\n",
              "\n",
              "  <div id=\"df-2046dea3-9919-4916-a581-1ebccab65ee6\">\n",
              "    <div class=\"colab-df-container\">\n",
              "      <div>\n",
              "<style scoped>\n",
              "    .dataframe tbody tr th:only-of-type {\n",
              "        vertical-align: middle;\n",
              "    }\n",
              "\n",
              "    .dataframe tbody tr th {\n",
              "        vertical-align: top;\n",
              "    }\n",
              "\n",
              "    .dataframe thead th {\n",
              "        text-align: right;\n",
              "    }\n",
              "</style>\n",
              "<table border=\"1\" class=\"dataframe\">\n",
              "  <thead>\n",
              "    <tr style=\"text-align: right;\">\n",
              "      <th></th>\n",
              "      <th>A</th>\n",
              "      <th>B</th>\n",
              "      <th>C</th>\n",
              "      <th>D</th>\n",
              "    </tr>\n",
              "  </thead>\n",
              "  <tbody>\n",
              "    <tr>\n",
              "      <th>0</th>\n",
              "      <td>0</td>\n",
              "      <td>1</td>\n",
              "      <td>1</td>\n",
              "      <td>1</td>\n",
              "    </tr>\n",
              "    <tr>\n",
              "      <th>1</th>\n",
              "      <td>0</td>\n",
              "      <td>1</td>\n",
              "      <td>0</td>\n",
              "      <td>1</td>\n",
              "    </tr>\n",
              "    <tr>\n",
              "      <th>2</th>\n",
              "      <td>1</td>\n",
              "      <td>0</td>\n",
              "      <td>1</td>\n",
              "      <td>0</td>\n",
              "    </tr>\n",
              "    <tr>\n",
              "      <th>3</th>\n",
              "      <td>0</td>\n",
              "      <td>1</td>\n",
              "      <td>0</td>\n",
              "      <td>1</td>\n",
              "    </tr>\n",
              "    <tr>\n",
              "      <th>4</th>\n",
              "      <td>0</td>\n",
              "      <td>1</td>\n",
              "      <td>1</td>\n",
              "      <td>0</td>\n",
              "    </tr>\n",
              "    <tr>\n",
              "      <th>5</th>\n",
              "      <td>0</td>\n",
              "      <td>1</td>\n",
              "      <td>1</td>\n",
              "      <td>1</td>\n",
              "    </tr>\n",
              "  </tbody>\n",
              "</table>\n",
              "</div>\n",
              "      <button class=\"colab-df-convert\" onclick=\"convertToInteractive('df-2046dea3-9919-4916-a581-1ebccab65ee6')\"\n",
              "              title=\"Convert this dataframe to an interactive table.\"\n",
              "              style=\"display:none;\">\n",
              "\n",
              "  <svg xmlns=\"http://www.w3.org/2000/svg\" height=\"24px\"viewBox=\"0 0 24 24\"\n",
              "       width=\"24px\">\n",
              "    <path d=\"M0 0h24v24H0V0z\" fill=\"none\"/>\n",
              "    <path d=\"M18.56 5.44l.94 2.06.94-2.06 2.06-.94-2.06-.94-.94-2.06-.94 2.06-2.06.94zm-11 1L8.5 8.5l.94-2.06 2.06-.94-2.06-.94L8.5 2.5l-.94 2.06-2.06.94zm10 10l.94 2.06.94-2.06 2.06-.94-2.06-.94-.94-2.06-.94 2.06-2.06.94z\"/><path d=\"M17.41 7.96l-1.37-1.37c-.4-.4-.92-.59-1.43-.59-.52 0-1.04.2-1.43.59L10.3 9.45l-7.72 7.72c-.78.78-.78 2.05 0 2.83L4 21.41c.39.39.9.59 1.41.59.51 0 1.02-.2 1.41-.59l7.78-7.78 2.81-2.81c.8-.78.8-2.07 0-2.86zM5.41 20L4 18.59l7.72-7.72 1.47 1.35L5.41 20z\"/>\n",
              "  </svg>\n",
              "      </button>\n",
              "\n",
              "\n",
              "\n",
              "    <div id=\"df-c47807f9-75ad-4797-858a-9c27b097f8c9\">\n",
              "      <button class=\"colab-df-quickchart\" onclick=\"quickchart('df-c47807f9-75ad-4797-858a-9c27b097f8c9')\"\n",
              "              title=\"Suggest charts.\"\n",
              "              style=\"display:none;\">\n",
              "\n",
              "<svg xmlns=\"http://www.w3.org/2000/svg\" height=\"24px\"viewBox=\"0 0 24 24\"\n",
              "     width=\"24px\">\n",
              "    <g>\n",
              "        <path d=\"M19 3H5c-1.1 0-2 .9-2 2v14c0 1.1.9 2 2 2h14c1.1 0 2-.9 2-2V5c0-1.1-.9-2-2-2zM9 17H7v-7h2v7zm4 0h-2V7h2v10zm4 0h-2v-4h2v4z\"/>\n",
              "    </g>\n",
              "</svg>\n",
              "      </button>\n",
              "    </div>\n",
              "\n",
              "<style>\n",
              "  .colab-df-quickchart {\n",
              "    background-color: #E8F0FE;\n",
              "    border: none;\n",
              "    border-radius: 50%;\n",
              "    cursor: pointer;\n",
              "    display: none;\n",
              "    fill: #1967D2;\n",
              "    height: 32px;\n",
              "    padding: 0 0 0 0;\n",
              "    width: 32px;\n",
              "  }\n",
              "\n",
              "  .colab-df-quickchart:hover {\n",
              "    background-color: #E2EBFA;\n",
              "    box-shadow: 0px 1px 2px rgba(60, 64, 67, 0.3), 0px 1px 3px 1px rgba(60, 64, 67, 0.15);\n",
              "    fill: #174EA6;\n",
              "  }\n",
              "\n",
              "  [theme=dark] .colab-df-quickchart {\n",
              "    background-color: #3B4455;\n",
              "    fill: #D2E3FC;\n",
              "  }\n",
              "\n",
              "  [theme=dark] .colab-df-quickchart:hover {\n",
              "    background-color: #434B5C;\n",
              "    box-shadow: 0px 1px 3px 1px rgba(0, 0, 0, 0.15);\n",
              "    filter: drop-shadow(0px 1px 2px rgba(0, 0, 0, 0.3));\n",
              "    fill: #FFFFFF;\n",
              "  }\n",
              "</style>\n",
              "\n",
              "    <script>\n",
              "      async function quickchart(key) {\n",
              "        const containerElement = document.querySelector('#' + key);\n",
              "        const charts = await google.colab.kernel.invokeFunction(\n",
              "            'suggestCharts', [key], {});\n",
              "      }\n",
              "    </script>\n",
              "\n",
              "      <script>\n",
              "\n",
              "function displayQuickchartButton(domScope) {\n",
              "  let quickchartButtonEl =\n",
              "    domScope.querySelector('#df-c47807f9-75ad-4797-858a-9c27b097f8c9 button.colab-df-quickchart');\n",
              "  quickchartButtonEl.style.display =\n",
              "    google.colab.kernel.accessAllowed ? 'block' : 'none';\n",
              "}\n",
              "\n",
              "        displayQuickchartButton(document);\n",
              "      </script>\n",
              "      <style>\n",
              "    .colab-df-container {\n",
              "      display:flex;\n",
              "      flex-wrap:wrap;\n",
              "      gap: 12px;\n",
              "    }\n",
              "\n",
              "    .colab-df-convert {\n",
              "      background-color: #E8F0FE;\n",
              "      border: none;\n",
              "      border-radius: 50%;\n",
              "      cursor: pointer;\n",
              "      display: none;\n",
              "      fill: #1967D2;\n",
              "      height: 32px;\n",
              "      padding: 0 0 0 0;\n",
              "      width: 32px;\n",
              "    }\n",
              "\n",
              "    .colab-df-convert:hover {\n",
              "      background-color: #E2EBFA;\n",
              "      box-shadow: 0px 1px 2px rgba(60, 64, 67, 0.3), 0px 1px 3px 1px rgba(60, 64, 67, 0.15);\n",
              "      fill: #174EA6;\n",
              "    }\n",
              "\n",
              "    [theme=dark] .colab-df-convert {\n",
              "      background-color: #3B4455;\n",
              "      fill: #D2E3FC;\n",
              "    }\n",
              "\n",
              "    [theme=dark] .colab-df-convert:hover {\n",
              "      background-color: #434B5C;\n",
              "      box-shadow: 0px 1px 3px 1px rgba(0, 0, 0, 0.15);\n",
              "      filter: drop-shadow(0px 1px 2px rgba(0, 0, 0, 0.3));\n",
              "      fill: #FFFFFF;\n",
              "    }\n",
              "  </style>\n",
              "\n",
              "      <script>\n",
              "        const buttonEl =\n",
              "          document.querySelector('#df-2046dea3-9919-4916-a581-1ebccab65ee6 button.colab-df-convert');\n",
              "        buttonEl.style.display =\n",
              "          google.colab.kernel.accessAllowed ? 'block' : 'none';\n",
              "\n",
              "        async function convertToInteractive(key) {\n",
              "          const element = document.querySelector('#df-2046dea3-9919-4916-a581-1ebccab65ee6');\n",
              "          const dataTable =\n",
              "            await google.colab.kernel.invokeFunction('convertToInteractive',\n",
              "                                                     [key], {});\n",
              "          if (!dataTable) return;\n",
              "\n",
              "          const docLinkHtml = 'Like what you see? Visit the ' +\n",
              "            '<a target=\"_blank\" href=https://colab.research.google.com/notebooks/data_table.ipynb>data table notebook</a>'\n",
              "            + ' to learn more about interactive tables.';\n",
              "          element.innerHTML = '';\n",
              "          dataTable['output_type'] = 'display_data';\n",
              "          await google.colab.output.renderOutput(dataTable, element);\n",
              "          const docLink = document.createElement('div');\n",
              "          docLink.innerHTML = docLinkHtml;\n",
              "          element.appendChild(docLink);\n",
              "        }\n",
              "      </script>\n",
              "    </div>\n",
              "  </div>\n"
            ]
          },
          "metadata": {},
          "execution_count": 78
        }
      ]
    },
    {
      "cell_type": "code",
      "source": [
        "# !curl -O http://openrecipes.s3.amazonaws.com/recipeitems-latest.json.gz\n",
        "# !gunzip recipeitems-latest.json.gz"
      ],
      "metadata": {
        "id": "oY1827UFB0J_"
      },
      "execution_count": null,
      "outputs": []
    },
    {
      "cell_type": "code",
      "source": [
        "repo = \"https://raw.githubusercontent.com/jakevdp/open-recipe-data/master\"\n",
        "!cd data && curl -O {repo}/recipeitems.json.gz\n",
        "!gunzip data/recipeitems.json.gz"
      ],
      "metadata": {
        "colab": {
          "base_uri": "https://localhost:8080/"
        },
        "id": "Q7YNavbUK7EM",
        "outputId": "78677f55-654c-4f31-b25c-73c9a043d5c4"
      },
      "execution_count": null,
      "outputs": [
        {
          "output_type": "stream",
          "name": "stdout",
          "text": [
            "/bin/bash: line 1: cd: data: No such file or directory\n",
            "gzip: data/recipeitems.json.gz: No such file or directory\n"
          ]
        }
      ]
    },
    {
      "cell_type": "code",
      "source": [
        "try:\n",
        " recipes = pd.read_json('/content/openrecipes-master.zip')\n",
        "except ValueError as e:\n",
        " print(\"ValueError:\", e)\n"
      ],
      "metadata": {
        "colab": {
          "base_uri": "https://localhost:8080/"
        },
        "id": "exQN91vp_6xK",
        "outputId": "d322266b-92ed-47c4-904a-232134487f43"
      },
      "execution_count": null,
      "outputs": [
        {
          "output_type": "stream",
          "name": "stdout",
          "text": [
            "ValueError: Multiple files found in ZIP file. Only one file per ZIP: ['openrecipes-master/', 'openrecipes-master/.gitignore', 'openrecipes-master/CONTRIBUTORS', 'openrecipes-master/LICENSE', 'openrecipes-master/README.md', 'openrecipes-master/requirements.txt', 'openrecipes-master/scrapy_proj/', 'openrecipes-master/scrapy_proj/generate.py', 'openrecipes-master/scrapy_proj/grab_html.py', 'openrecipes-master/scrapy_proj/openrecipes/', 'openrecipes-master/scrapy_proj/openrecipes/__init__.py', 'openrecipes-master/scrapy_proj/openrecipes/hrecipe_parser.py', 'openrecipes-master/scrapy_proj/openrecipes/items.py', 'openrecipes-master/scrapy_proj/openrecipes/pipelines.py', 'openrecipes-master/scrapy_proj/openrecipes/schema_org_parser.py', 'openrecipes-master/scrapy_proj/openrecipes/settings.py.default', 'openrecipes-master/scrapy_proj/openrecipes/spiders/', 'openrecipes-master/scrapy_proj/openrecipes/spiders/__init__.py', 'openrecipes-master/scrapy_proj/openrecipes/spiders/allrecipes_spider.py', 'openrecipes-master/scrapy_proj/openrecipes/spiders/aspicyperspective_spider.py', 'openrecipes-master/scrapy_proj/openrecipes/spiders/backtoherroots_spider.py', 'openrecipes-master/scrapy_proj/openrecipes/spiders/bbcfood_spider.py', 'openrecipes-master/scrapy_proj/openrecipes/spiders/bbcgoodfood_spider.py', 'openrecipes-master/scrapy_proj/openrecipes/spiders/biggirlssmallkitchen_feedspider.py', 'openrecipes-master/scrapy_proj/openrecipes/spiders/biggirlssmallkitchen_spider.py', 'openrecipes-master/scrapy_proj/openrecipes/spiders/bonappetit_spider.py', 'openrecipes-master/scrapy_proj/openrecipes/spiders/browneyedbaker_spider.py', 'openrecipes-master/scrapy_proj/openrecipes/spiders/bunkycooks_spider.py', 'openrecipes-master/scrapy_proj/openrecipes/spiders/chow_spider.py', 'openrecipes-master/scrapy_proj/openrecipes/spiders/cookieandkate_feedspider.py', 'openrecipes-master/scrapy_proj/openrecipes/spiders/cookieandkate_spider.py', 'openrecipes-master/scrapy_proj/openrecipes/spiders/cookincanuck_feedspider.py', 'openrecipes-master/scrapy_proj/openrecipes/spiders/cookincanuck_spider.py', 'openrecipes-master/scrapy_proj/openrecipes/spiders/dashingdish_spider.py', 'openrecipes-master/scrapy_proj/openrecipes/spiders/davidlebovitz_spider.py', 'openrecipes-master/scrapy_proj/openrecipes/spiders/delishhh_feedspider.py', 'openrecipes-master/scrapy_proj/openrecipes/spiders/delishhh_spider.py', 'openrecipes-master/scrapy_proj/openrecipes/spiders/eatthelove_feedspider.py', 'openrecipes-master/scrapy_proj/openrecipes/spiders/eatthelove_spider.py', 'openrecipes-master/scrapy_proj/openrecipes/spiders/elanaspantry_feedspider.py', 'openrecipes-master/scrapy_proj/openrecipes/spiders/elanaspantry_spider.py', 'openrecipes-master/scrapy_proj/openrecipes/spiders/epicurious_feedspider.py', 'openrecipes-master/scrapy_proj/openrecipes/spiders/epicurious_spider.py', 'openrecipes-master/scrapy_proj/openrecipes/spiders/food_spider.py', 'openrecipes-master/scrapy_proj/openrecipes/spiders/foodnetwork_spider.py', 'openrecipes-master/scrapy_proj/openrecipes/spiders/fortheloveofcooking_spider.py', 'openrecipes-master/scrapy_proj/openrecipes/spiders/jamieoliver_spider.py', 'openrecipes-master/scrapy_proj/openrecipes/spiders/loveandoliveoil_feedspider.py', 'openrecipes-master/scrapy_proj/openrecipes/spiders/loveandoliveoil_spider.py', 'openrecipes-master/scrapy_proj/openrecipes/spiders/lovefood_spider.py', 'openrecipes-master/scrapy_proj/openrecipes/spiders/mybakingaddiction_spider.py', 'openrecipes-master/scrapy_proj/openrecipes/spiders/naturallyella_feedspider.py', 'openrecipes-master/scrapy_proj/openrecipes/spiders/naturallyella_spider.py', 'openrecipes-master/scrapy_proj/openrecipes/spiders/onehundredonecookbooks_feedspider.py', 'openrecipes-master/scrapy_proj/openrecipes/spiders/onehundredonecookbooks_spider.py', 'openrecipes-master/scrapy_proj/openrecipes/spiders/paninihappy_feedspider.py', 'openrecipes-master/scrapy_proj/openrecipes/spiders/paninihappy_spider.py', 'openrecipes-master/scrapy_proj/openrecipes/spiders/pickypalate_feedspider.py', 'openrecipes-master/scrapy_proj/openrecipes/spiders/pickypalate_spider.py', 'openrecipes-master/scrapy_proj/openrecipes/spiders/seriouseats_spider.py', 'openrecipes-master/scrapy_proj/openrecipes/spiders/smittenkitchen_feedspider.py', 'openrecipes-master/scrapy_proj/openrecipes/spiders/smittenkitchen_spider.py', 'openrecipes-master/scrapy_proj/openrecipes/spiders/steamykitchen_feedspider.py', 'openrecipes-master/scrapy_proj/openrecipes/spiders/steamykitchen_spider.py', 'openrecipes-master/scrapy_proj/openrecipes/spiders/tastykitchen_spider.py', 'openrecipes-master/scrapy_proj/openrecipes/spiders/thelittlekitchen_feedspider.py', 'openrecipes-master/scrapy_proj/openrecipes/spiders/thelittlekitchen_spider.py', 'openrecipes-master/scrapy_proj/openrecipes/spiders/thepioneerwoman_feedspider.py', 'openrecipes-master/scrapy_proj/openrecipes/spiders/thepioneerwoman_spider.py', 'openrecipes-master/scrapy_proj/openrecipes/spiders/thevintagemixer_feedspider.py', 'openrecipes-master/scrapy_proj/openrecipes/spiders/thevintagemixer_spider.py', 'openrecipes-master/scrapy_proj/openrecipes/spiders/twopeasandtheirpod_spider.py', 'openrecipes-master/scrapy_proj/openrecipes/spiders/whatsgabycooking_spider.py', 'openrecipes-master/scrapy_proj/openrecipes/spiders/williamssonoma_spider.py', 'openrecipes-master/scrapy_proj/openrecipes/util.py', 'openrecipes-master/scrapy_proj/scrapy.cfg', 'openrecipes-master/scrapy_proj/tests/', 'openrecipes-master/scrapy_proj/tests/html_data/', 'openrecipes-master/scrapy_proj/tests/html_data/allrecipes/', 'openrecipes-master/scrapy_proj/tests/html_data/allrecipes/item_Delicious_Ham_and_Potato_Soup_Recipe_-_Allrecipes.com.html', 'openrecipes-master/scrapy_proj/tests/html_data/allrecipes/item_Mom_s_Cucumber_Salad_Recipe_-_Allrecipes.com.html', 'openrecipes-master/scrapy_proj/tests/html_data/allrecipes/item_Super-Simple_Super-Spicy_Mongolian_Beef_Recipe_-_Allrecipes.com.html', 'openrecipes-master/scrapy_proj/tests/html_data/aspicyperspective/', 'openrecipes-master/scrapy_proj/tests/html_data/aspicyperspective/item_Apple_Bacon_Pie_with_Cheddar_Crust_A_Spicy_Perspective.html', 'openrecipes-master/scrapy_proj/tests/html_data/aspicyperspective/item_Asian_Rubbed_Thanksgiving_Turkey_Giveaway_A_Spicy_Perspective.html', 'openrecipes-master/scrapy_proj/tests/html_data/backtoherroots/', 'openrecipes-master/scrapy_proj/tests/html_data/backtoherroots/item_Banana_Chocolate_Chunk_Almond_Butter_Cookies_by_Back_to_Her_Roots.html', 'openrecipes-master/scrapy_proj/tests/html_data/bbcfood/', 'openrecipes-master/scrapy_proj/tests/html_data/bbcfood/item_BBC_-_Food_-_Recipes_Meringues_with_clotted_cream_and_strawberries.html', 'openrecipes-master/scrapy_proj/tests/html_data/bbcfood/item_BBC_-_Food_-_Recipes_Pot-roast_hogget_with_barley.html', 'openrecipes-master/scrapy_proj/tests/html_data/bbcfood/item_BBC_-_Food_-_Recipes_Rainbow_trout_Grenobloise.html', 'openrecipes-master/scrapy_proj/tests/html_data/bbcgoodfood/', 'openrecipes-master/scrapy_proj/tests/html_data/bbcgoodfood/item_A_Twist_On_The_Classic_Scone_recipe_-_Recipes_-_BBC_Good_Food.html', 'openrecipes-master/scrapy_proj/tests/html_data/bbcgoodfood/item_ROAST_MONKFISH_recipe_-_Recipes_-_BBC_Good_Food.html', 'openrecipes-master/scrapy_proj/tests/html_data/bbcgoodfood/item_Walnut_Ricotta_Chocolate_Cake_recipe_-_Recipes_-_BBC_Good_Food.html', 'openrecipes-master/scrapy_proj/tests/html_data/biggirlssmallkitchen/', 'openrecipes-master/scrapy_proj/tests/html_data/biggirlssmallkitchen/item_Baking_For_Others_A_Cookie_Cake_for_J_Big_Girls_Small_Kitchen.html', 'openrecipes-master/scrapy_proj/tests/html_data/biggirlssmallkitchen/item_Big_Girls_Global_Kitchens_Romesco_Sauce_Big_Girls_Small_Kitchen.html', 'openrecipes-master/scrapy_proj/tests/html_data/bonappetit/', 'openrecipes-master/scrapy_proj/tests/html_data/bonappetit/item_Peanut_Sauce_Recipe_Bon_App_tit.html', 'openrecipes-master/scrapy_proj/tests/html_data/bonappetit/item_Tortilla_de_Patatas_Recipe_Bon_App_tit.html', 'openrecipes-master/scrapy_proj/tests/html_data/browneyedbaker/', 'openrecipes-master/scrapy_proj/tests/html_data/browneyedbaker/item_Ambrosia_Salad_Recipe_Brown_Eyed_Baker.html', 'openrecipes-master/scrapy_proj/tests/html_data/browneyedbaker/item_Fresh_Orange_Sherbet_Brown_Eyed_Baker.html', 'openrecipes-master/scrapy_proj/tests/html_data/browneyedbaker/item_Soft_and_Chewy_Molasses_Spice_Cookies_Brown_Eyed_Baker.html', 'openrecipes-master/scrapy_proj/tests/html_data/bunkycooks/', 'openrecipes-master/scrapy_proj/tests/html_data/bunkycooks/item_Bunkycooks_Kicked_Up_Macaroni_and_Cheese.html', 'openrecipes-master/scrapy_proj/tests/html_data/bunkycooks/item_Bunkycooks_Ringing_in_the_New_Year_Lentil_Soup_with_Sausage_Kale_and_Garlic.html', 'openrecipes-master/scrapy_proj/tests/html_data/chow/', 'openrecipes-master/scrapy_proj/tests/html_data/chow/item_Fast_Lemon-Parsley_Shrimp_Pasta_Recipe_-_CHOW.html', 'openrecipes-master/scrapy_proj/tests/html_data/chow/item_Meyer_Lemon_and_Black_Pepper_Cookies_Recipe_-_CHOW.html', 'openrecipes-master/scrapy_proj/tests/html_data/chow/item_Strawberry-Rhubarb_Pie_with_Sour_Cream_Crust_Recipe_-_CHOW.html', 'openrecipes-master/scrapy_proj/tests/html_data/cookieandkate/', 'openrecipes-master/scrapy_proj/tests/html_data/cookieandkate/item_Curried_Red_Lentil_Soup_with_Dried_Cherries_and_Cilantro_-_Cookie_and_Kate.html', 'openrecipes-master/scrapy_proj/tests/html_data/cookieandkate/item_Healthy_Baked_Oatmeal_with_Blackberries_Coconut_-_Cookie_and_Kate_-_Cookie_and_Kate.html', 'openrecipes-master/scrapy_proj/tests/html_data/cookincanuck/', 'openrecipes-master/scrapy_proj/tests/html_data/cookincanuck/item_Cookin_Canuck_10-Minute_Thai_Shrimp_Cucumber_Avocado_Salad_Recipe.html', 'openrecipes-master/scrapy_proj/tests/html_data/delishhh/', 'openrecipes-master/scrapy_proj/tests/html_data/delishhh/item_Creamed_Spinach.html', 'openrecipes-master/scrapy_proj/tests/html_data/delishhh/item_Italian_Wedding_Soup_with_Turkey_Meatballs.html', 'openrecipes-master/scrapy_proj/tests/html_data/delishhh/item_Rotisserie_Leg_of_Lamb_Delishhh.html', 'openrecipes-master/scrapy_proj/tests/html_data/eatthelove/', 'openrecipes-master/scrapy_proj/tests/html_data/eatthelove/item_Egg_Tart_Recipe_Egg_Custard_Tart_Eat_the_Love.html', 'openrecipes-master/scrapy_proj/tests/html_data/elanaspantry/', 'openrecipes-master/scrapy_proj/tests/html_data/elanaspantry/item_Paleo_Brownies_Date-Sweetened_Brownie_Recipe_-_Elana_s_Pantry.html', 'openrecipes-master/scrapy_proj/tests/html_data/elanaspantry/item_Pumpkin_Whipped_Cream_Paleo_Vegan_Dessert_Topping_-_Elana_s_Pantry.html', 'openrecipes-master/scrapy_proj/tests/html_data/elanaspantry/item_Roasted_Cauliflower_Soup_Dairy_Free_Creamy_Soup_Recipe_-_Elana_s_Pantry.html', 'openrecipes-master/scrapy_proj/tests/html_data/elanaspantry/item_Rosemary_Apple_Chicken_-_Paleo_Chicken_Recipe_-_Elana_s_Pantry.html', 'openrecipes-master/scrapy_proj/tests/html_data/epicurious/', 'openrecipes-master/scrapy_proj/tests/html_data/epicurious/item_Asian_Chicken_and_Cabbage_Salad_Recipe_at_Epicurious.com.html', 'openrecipes-master/scrapy_proj/tests/html_data/epicurious/item_Horseradish_Deviled_Eggs_Recipe_at_Epicurious.com.html', 'openrecipes-master/scrapy_proj/tests/html_data/epicurious/item_Victory_at_Sea_Recipe_at_Epicurious.com.html', 'openrecipes-master/scrapy_proj/tests/html_data/food/', 'openrecipes-master/scrapy_proj/tests/html_data/food/item_Banana_Banana_Bread_Recipe_-_Food.com_-_25885.html', 'openrecipes-master/scrapy_proj/tests/html_data/food/item_Kittencal_s_Moist_Cheddar-Garlic_Oven_Fried_Chicken_Breast_Recipe_-_Food.com_-_82102.html', 'openrecipes-master/scrapy_proj/tests/html_data/food/item_Oatmeal_Raisin_Cookies_Recipe_-_Food.com_-_35813.html', 'openrecipes-master/scrapy_proj/tests/html_data/foodnetwork/', 'openrecipes-master/scrapy_proj/tests/html_data/foodnetwork/item_Blushing_She_Crab_Soup_with_a_Twist_Recipe_Recipes_Food_Network.html', 'openrecipes-master/scrapy_proj/tests/html_data/foodnetwork/item_Masala_Burgers_with_Tangy_Tamarind_Sauce_and_Red_Onion-Mint_Relish_Recipe_Recipes_Food_Network.html', 'openrecipes-master/scrapy_proj/tests/html_data/foodnetwork/item_Mirin_Glazed_Burgers_with_Sesame-Ponzu_Spinach_and_Wasabi-Ginger_Mayonnaise_Recipe_Recipes_Food_Network.html', 'openrecipes-master/scrapy_proj/tests/html_data/jamieoliver/', 'openrecipes-master/scrapy_proj/tests/html_data/jamieoliver/item_roast_meatloaf_with_tomatoes_garlic_basil_Jamie_Oliver_Food_Jamie_Oliver_UK_.html', 'openrecipes-master/scrapy_proj/tests/html_data/jamieoliver/item_roasted_asparagus_with_rosemary_anchovies_wrapped_in_pancetta_Jamie_Oliver_Food_Jamie_Oliver_UK_.html', 'openrecipes-master/scrapy_proj/tests/html_data/jamieoliver/item_sticky_toffee_pudding_Jamie_Oliver_Food_Jamie_Oliver_UK_.html', 'openrecipes-master/scrapy_proj/tests/html_data/lovefood/', 'openrecipes-master/scrapy_proj/tests/html_data/lovefood/item_Bacon-wrapped_chicken_with_leeks_peas_and_basil_recipe.html', 'openrecipes-master/scrapy_proj/tests/html_data/lovefood/item_Make_it_don_t_buy_it_hummus.html', 'openrecipes-master/scrapy_proj/tests/html_data/lovefood/item_Swedish_meatballs_with_pasta_recipe.html', 'openrecipes-master/scrapy_proj/tests/html_data/naturallyella/', 'openrecipes-master/scrapy_proj/tests/html_data/naturallyella/item_Naturally_Ella_Chipotle_Rhubarb_Salsa_Naturally_Ella.html', 'openrecipes-master/scrapy_proj/tests/html_data/naturallyella/item_Naturally_Ella_Chipotle_Tomatillo_Salsa_Naturally_Ella.html', 'openrecipes-master/scrapy_proj/tests/html_data/naturallyella/item_Naturally_Ella_Roasted_Mango_Habanero_Salsa_Naturally_Ella.html', 'openrecipes-master/scrapy_proj/tests/html_data/onehundredonecookbooks/', 'openrecipes-master/scrapy_proj/tests/html_data/onehundredonecookbooks/item_an-ideal-lunch-salad-recipe.html', 'openrecipes-master/scrapy_proj/tests/html_data/onehundredonecookbooks/item_cold-soba-noodles-recipe.html', 'openrecipes-master/scrapy_proj/tests/html_data/paninihappy/', 'openrecipes-master/scrapy_proj/tests/html_data/paninihappy/item_Grilled_Asparagus_Tartines_with_Fresh_Ricotta_Pesto_and_Scallions_Panini_Happy_.html', 'openrecipes-master/scrapy_proj/tests/html_data/paninihappy/item_Recipe_Greek_Shrimp_Panini_with_Pesto_Feta_and_Sun-Dried_Tomatoes_Panini_Happy_.html', 'openrecipes-master/scrapy_proj/tests/html_data/paninihappy/item_Recipe_Spicy_Caponata_Panini_Panini_Happy_.html', 'openrecipes-master/scrapy_proj/tests/html_data/pickypalate/', 'openrecipes-master/scrapy_proj/tests/html_data/pickypalate/item_Bacon_Gorgonzola_Chicken_Salad_-_Picky_Palate.html', 'openrecipes-master/scrapy_proj/tests/html_data/seriouseats/', 'openrecipes-master/scrapy_proj/tests/html_data/seriouseats/item_Chicken_Chow_Mein_from_The_Chinese_Takeout_Cookbook_Serious_Eats_Recipes.html', 'openrecipes-master/scrapy_proj/tests/html_data/seriouseats/item_Strawberry_Thyme_Tart_with_Mint_Glaze_Serious_Eats_Recipes.html', 'openrecipes-master/scrapy_proj/tests/html_data/seriouseats/item_Tomatillo_Chicken_Quesadillas_Serious_Eats_Recipes.html', 'openrecipes-master/scrapy_proj/tests/html_data/smittenkitchen/', 'openrecipes-master/scrapy_proj/tests/html_data/smittenkitchen/item_apple_and_cheddar_scones_smitten_kitchen.html', 'openrecipes-master/scrapy_proj/tests/html_data/smittenkitchen/item_breakfast_apricot_crisp_smitten_kitchen.html', 'openrecipes-master/scrapy_proj/tests/html_data/smittenkitchen/item_zucchini_latkes_smitten_kitchen.html', 'openrecipes-master/scrapy_proj/tests/html_data/steamykitchen/', 'openrecipes-master/scrapy_proj/tests/html_data/steamykitchen/item_Green_Beans_with_Chinese_Preserved_Radish_Stir_Fry_Recipe_Steamy_Kitchen_Recipes.html', 'openrecipes-master/scrapy_proj/tests/html_data/steamykitchen/item_Hungarian_Pork_Stew_Recipe_with_Video_Steamy_Kitchen_Recipes.html', 'openrecipes-master/scrapy_proj/tests/html_data/steamykitchen/item_Nutella_Bread_Pudding_Recipe_Steamy_Kitchen_Recipes.html', 'openrecipes-master/scrapy_proj/tests/html_data/tastykitchen/', 'openrecipes-master/scrapy_proj/tests/html_data/tastykitchen/item_Asparagus_with_Crispy_Pancetta_and_a_Fried_Egg_Tasty_Kitchen_A_Happy_Recipe_Community_.html', 'openrecipes-master/scrapy_proj/tests/html_data/tastykitchen/item_Green_Curry_Chicken_Tasty_Kitchen_A_Happy_Recipe_Community_.html', 'openrecipes-master/scrapy_proj/tests/html_data/tastykitchen/item_Quick_Rhubarb_Cake_Tasty_Kitchen_A_Happy_Recipe_Community_.html', 'openrecipes-master/scrapy_proj/tests/html_data/thelittlekitchen/', 'openrecipes-master/scrapy_proj/tests/html_data/thelittlekitchen/item_Blue_Cheese_White_Bean_Dip_with_SunChips_Sweet_Spicy_BBQ_Snacks_the_little_kitchen.html', 'openrecipes-master/scrapy_proj/tests/html_data/thelittlekitchen/item_Tempura_Shrimp_Vegetables_the_little_kitchen.html', 'openrecipes-master/scrapy_proj/tests/html_data/thelittlekitchen/item_Zucchini_and_Potato_Tomato_Soup_Recipe_the_little_kitchen.html', 'openrecipes-master/scrapy_proj/tests/html_data/thepioneerwoman/', 'openrecipes-master/scrapy_proj/tests/html_data/thepioneerwoman/item_edna-mays-sour-cream-pancakes.html', 'openrecipes-master/scrapy_proj/tests/html_data/thepioneerwoman/item_pizza-potato-skins.html', 'openrecipes-master/scrapy_proj/tests/html_data/thevintagemixer/', 'openrecipes-master/scrapy_proj/tests/html_data/thevintagemixer/item_Berry_Coffee_Cake_Recipe_with_Walnut_Streusel_Vintage_Mixer.html', 'openrecipes-master/scrapy_proj/tests/html_data/thevintagemixer/item_Farro_Salad_with_Blood_Oranges_Kumquats_Beets_and_Avocado_Vintage_Mixer.html', 'openrecipes-master/scrapy_proj/tests/html_data/thevintagemixer/item_Homemade_Frozen_Bean_and_Veggie_Burritos_Vintage_Mixer.html', 'openrecipes-master/scrapy_proj/tests/html_data/whatsgabycooking/', 'openrecipes-master/scrapy_proj/tests/html_data/whatsgabycooking/item_Dark_Chocolate_and_Orange_Scones.html', 'openrecipes-master/scrapy_proj/tests/html_data/whatsgabycooking/item_Mexican_Corn_and_Quinoa_Salad_What_s_Gaby_Cooking.html', 'openrecipes-master/scrapy_proj/tests/html_data/william-sonoma.com/', 'openrecipes-master/scrapy_proj/tests/html_data/william-sonoma.com/item_Pappardelle_with_Zucchini_and_Lemon_Williams-Sonoma.html', 'openrecipes-master/scrapy_proj/tests/html_data/william-sonoma.com/item_Pasta_with_Artichoke_Roasted_Garlic_and_Caper_Sauce_Williams-Sonoma.html', 'openrecipes-master/scrapy_proj/tests/html_data/william-sonoma.com/item_Pasta_with_Green_Beans_Potatoes_and_Pesto_Williams-Sonoma.html', 'openrecipes-master/scrapy_proj/tests/scraper_tests.py', 'openrecipes-master/scrapy_proj/tests/util_tests.py', 'openrecipes-master/scripts/', 'openrecipes-master/scripts/mongo_cleanup.py', 'openrecipes-master/scripts/mongo_stats.py', 'openrecipes-master/scripts/mongodump.sh', 'openrecipes-master/scripts/mongoexport.sh', 'openrecipes-master/scripts/run_feed_spiders.sh', 'openrecipes-master/scripts/run_site_spiders.sh']\n"
          ]
        }
      ]
    }
  ]
}
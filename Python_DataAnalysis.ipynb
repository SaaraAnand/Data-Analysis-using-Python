{
  "nbformat": 4,
  "nbformat_minor": 0,
  "metadata": {
    "colab": {
      "provenance": []
    },
    "kernelspec": {
      "name": "python3",
      "display_name": "Python 3"
    },
    "language_info": {
      "name": "python"
    }
  },
  "cells": [
    {
      "cell_type": "code",
      "execution_count": null,
      "metadata": {
        "id": "pscr1i-TBaze",
        "colab": {
          "base_uri": "https://localhost:8080/",
          "height": 36
        },
        "outputId": "4dbac6b7-ae64-4be6-fc51-a365ddacbd9d"
      },
      "outputs": [
        {
          "output_type": "execute_result",
          "data": {
            "text/plain": [
              "'WORLD'"
            ],
            "application/vnd.google.colaboratory.intrinsic+json": {
              "type": "string"
            }
          },
          "metadata": {},
          "execution_count": 7
        }
      ],
      "source": [
        "a=\"HELLO WORLD\"\n",
        "a[-5:]"
      ]
    },
    {
      "cell_type": "code",
      "source": [
        "a=True\n",
        "type(a)"
      ],
      "metadata": {
        "id": "cCEH5v-98jab"
      },
      "execution_count": null,
      "outputs": []
    },
    {
      "cell_type": "code",
      "source": [
        "expr = 10 + 20 * 30 * (8/4) / 2\n",
        "print(expr)"
      ],
      "metadata": {
        "id": "8-tfcnc18V_g"
      },
      "execution_count": null,
      "outputs": []
    },
    {
      "cell_type": "code",
      "source": [
        "print(\"hi this is python\")"
      ],
      "metadata": {
        "id": "iGEgAsX489K3",
        "colab": {
          "base_uri": "https://localhost:8080/"
        },
        "outputId": "1a439eeb-f8d4-4e24-a9e8-4b2286a84ad7"
      },
      "execution_count": null,
      "outputs": [
        {
          "output_type": "stream",
          "name": "stdout",
          "text": [
            "hi this is python\n"
          ]
        }
      ]
    },
    {
      "cell_type": "code",
      "source": [
        "list1=[1,2]\n",
        "list1"
      ],
      "metadata": {
        "colab": {
          "base_uri": "https://localhost:8080/"
        },
        "id": "w5e3UW_FH4MM",
        "outputId": "48fe2254-4f0b-411f-cf4a-b25a80015682"
      },
      "execution_count": null,
      "outputs": [
        {
          "output_type": "execute_result",
          "data": {
            "text/plain": [
              "[1, 2]"
            ]
          },
          "metadata": {},
          "execution_count": 3
        }
      ]
    },
    {
      "cell_type": "code",
      "source": [
        "a=4\n",
        "print(a)"
      ],
      "metadata": {
        "colab": {
          "base_uri": "https://localhost:8080/"
        },
        "id": "hQv3LbObIsMg",
        "outputId": "bae84c38-ec82-46db-876c-96463ac86f83"
      },
      "execution_count": null,
      "outputs": [
        {
          "output_type": "stream",
          "name": "stdout",
          "text": [
            "4\n"
          ]
        }
      ]
    },
    {
      "cell_type": "code",
      "source": [
        "a=6+7j\n",
        "type(a)"
      ],
      "metadata": {
        "colab": {
          "base_uri": "https://localhost:8080/"
        },
        "id": "HP66RIwvJ6Ij",
        "outputId": "175f2a9d-3693-4e8c-96c1-1a194c7d2935"
      },
      "execution_count": null,
      "outputs": [
        {
          "output_type": "execute_result",
          "data": {
            "text/plain": [
              "complex"
            ]
          },
          "metadata": {},
          "execution_count": 16
        }
      ]
    },
    {
      "cell_type": "code",
      "source": [
        "x=45\n",
        "y=2\n",
        "#a=x+y\n",
        "print(x%y)"
      ],
      "metadata": {
        "colab": {
          "base_uri": "https://localhost:8080/"
        },
        "id": "Yw1nevV5KtXy",
        "outputId": "7e2ae9ab-7103-467e-e073-44dbf4814f4c"
      },
      "execution_count": null,
      "outputs": [
        {
          "output_type": "stream",
          "name": "stdout",
          "text": [
            "1\n"
          ]
        }
      ]
    },
    {
      "cell_type": "code",
      "source": [
        "a=\"python\"\n",
        "len(a)\n",
        "a[-5:]\n",
        "a[5]\n"
      ],
      "metadata": {
        "colab": {
          "base_uri": "https://localhost:8080/",
          "height": 36
        },
        "id": "vmBIAJadL4L9",
        "outputId": "e5fbe6b1-58f1-4dd1-b283-5d19100fd629"
      },
      "execution_count": null,
      "outputs": [
        {
          "output_type": "execute_result",
          "data": {
            "text/plain": [
              "'n'"
            ],
            "application/vnd.google.colaboratory.intrinsic+json": {
              "type": "string"
            }
          },
          "metadata": {},
          "execution_count": 37
        }
      ]
    },
    {
      "cell_type": "code",
      "source": [
        "x=1\n",
        "y=2\n",
        "result = x<=y\n",
        "print(result)"
      ],
      "metadata": {
        "colab": {
          "base_uri": "https://localhost:8080/"
        },
        "id": "0iJ6GBmeNgLX",
        "outputId": "a85ce153-4dcf-45b5-b928-81ca8783cba7"
      },
      "execution_count": null,
      "outputs": [
        {
          "output_type": "stream",
          "name": "stdout",
          "text": [
            "True\n"
          ]
        }
      ]
    },
    {
      "cell_type": "code",
      "source": [
        "X = 3\n",
        "result = (X < 1) or (X < 10)\n",
        "print(result)\n"
      ],
      "metadata": {
        "colab": {
          "base_uri": "https://localhost:8080/"
        },
        "id": "C30U22VHOFoD",
        "outputId": "e49ede44-395c-4621-9a7a-8bf717a322ac"
      },
      "execution_count": null,
      "outputs": [
        {
          "output_type": "stream",
          "name": "stdout",
          "text": [
            "True\n"
          ]
        }
      ]
    },
    {
      "cell_type": "code",
      "source": [
        "a=\"lion\"\n",
        "len(a)"
      ],
      "metadata": {
        "colab": {
          "base_uri": "https://localhost:8080/"
        },
        "id": "cSwgmv0eOfO4",
        "outputId": "5b3dc2a2-41c1-420a-eecc-c6ca1268ed6f"
      },
      "execution_count": null,
      "outputs": [
        {
          "output_type": "execute_result",
          "data": {
            "text/plain": [
              "4"
            ]
          },
          "metadata": {},
          "execution_count": 46
        }
      ]
    },
    {
      "cell_type": "code",
      "source": [
        "expr = 10 + 20 * 30 * (8/4) / 2\n",
        "print(expr)"
      ],
      "metadata": {
        "colab": {
          "base_uri": "https://localhost:8080/"
        },
        "id": "ufw26lhFPASE",
        "outputId": "4d1260b7-c62b-49bf-d870-621c2ba03c66"
      },
      "execution_count": null,
      "outputs": [
        {
          "output_type": "stream",
          "name": "stdout",
          "text": [
            "610.0\n"
          ]
        }
      ]
    },
    {
      "cell_type": "code",
      "source": [
        "animals = ['cat', 'dog', 'rabbit', 'horse']\n",
        "\n",
        "index = animals.index('dog')\n",
        "\n",
        "print(index)"
      ],
      "metadata": {
        "colab": {
          "base_uri": "https://localhost:8080/"
        },
        "id": "XtQx6aZeP0Bc",
        "outputId": "3f494a2c-4970-4c41-bd21-79be9330d884"
      },
      "execution_count": null,
      "outputs": [
        {
          "output_type": "stream",
          "name": "stdout",
          "text": [
            "1\n"
          ]
        }
      ]
    },
    {
      "cell_type": "code",
      "source": [
        "a=\"python\"\n",
        "a.find(\"t\")"
      ],
      "metadata": {
        "colab": {
          "base_uri": "https://localhost:8080/"
        },
        "id": "ToRpnx4EBf5S",
        "outputId": "526ad239-c3fb-4eb0-a470-cf4077b4cdc8"
      },
      "execution_count": null,
      "outputs": [
        {
          "output_type": "execute_result",
          "data": {
            "text/plain": [
              "2"
            ]
          },
          "metadata": {},
          "execution_count": 7
        }
      ]
    },
    {
      "cell_type": "code",
      "source": [
        "a=\"hello\"\n",
        "a.find(\"e\")"
      ],
      "metadata": {
        "colab": {
          "base_uri": "https://localhost:8080/"
        },
        "id": "FL83dSw5NXNz",
        "outputId": "a3ca003b-3d9c-4f37-c9b1-3f322cfb20fa"
      },
      "execution_count": null,
      "outputs": [
        {
          "output_type": "execute_result",
          "data": {
            "text/plain": [
              "1"
            ]
          },
          "metadata": {},
          "execution_count": 2
        }
      ]
    },
    {
      "cell_type": "code",
      "source": [
        "list=[\"a\",\"b\",6,7,8.9,7]\n",
        "list"
      ],
      "metadata": {
        "colab": {
          "base_uri": "https://localhost:8080/"
        },
        "id": "7ZVf7SBZOsbW",
        "outputId": "3f1415aa-4781-4231-b954-24f65d00a5a9"
      },
      "execution_count": null,
      "outputs": [
        {
          "output_type": "execute_result",
          "data": {
            "text/plain": [
              "['a', 'b', 6, 7, 8.9, 7]"
            ]
          },
          "metadata": {},
          "execution_count": 6
        }
      ]
    },
    {
      "cell_type": "code",
      "source": [
        "list1=[\"a\",1,4,9.8]\n",
        "list1"
      ],
      "metadata": {
        "id": "uG3dTUvYAVFv"
      },
      "execution_count": null,
      "outputs": []
    },
    {
      "cell_type": "code",
      "source": [
        "fruits = [\"Apple\", \"Banana\", \"Papaya\", \"Grapes\", \"Watermelon\"]\n",
        "print(fruits)"
      ],
      "metadata": {
        "id": "NGbh9uO2p4HN",
        "colab": {
          "base_uri": "https://localhost:8080/"
        },
        "outputId": "555b5b29-5933-4cda-8144-dba5b85da1dd"
      },
      "execution_count": null,
      "outputs": [
        {
          "output_type": "stream",
          "name": "stdout",
          "text": [
            "['Apple', 'Banana', 'Papaya', 'Grapes', 'Watermelon']\n"
          ]
        }
      ]
    },
    {
      "cell_type": "code",
      "source": [
        "fruits = [\"Apple\", \"Banana\", \"Papaya\", \"Grapes\", \"Watermelon\"]\n",
        "num = len(fruits)\n",
        "print(fruits)\n",
        "print(len(fruits))"
      ],
      "metadata": {
        "id": "qgEYimTfqL7_",
        "colab": {
          "base_uri": "https://localhost:8080/"
        },
        "outputId": "b57f8870-16fb-4123-9a3b-f5d2c8ca2477"
      },
      "execution_count": null,
      "outputs": [
        {
          "output_type": "stream",
          "name": "stdout",
          "text": [
            "['Apple', 'Banana', 'Papaya', 'Grapes', 'Watermelon']\n",
            "5\n"
          ]
        }
      ]
    },
    {
      "cell_type": "code",
      "source": [
        "list=[3,7,8,9]\n",
        "len(list)"
      ],
      "metadata": {
        "colab": {
          "base_uri": "https://localhost:8080/"
        },
        "id": "u4EGCGS1QzaC",
        "outputId": "6e8752f5-da7d-4459-8bc3-1466089fd3c5"
      },
      "execution_count": null,
      "outputs": [
        {
          "output_type": "execute_result",
          "data": {
            "text/plain": [
              "4"
            ]
          },
          "metadata": {},
          "execution_count": 9
        }
      ]
    },
    {
      "cell_type": "code",
      "source": [
        "odd_numbers = [1, 3, 5, 7, 9]\n",
        "print(odd_numbers)"
      ],
      "metadata": {
        "id": "ilPs8dRjqS95",
        "colab": {
          "base_uri": "https://localhost:8080/"
        },
        "outputId": "bab4de9a-89ef-45d7-96ef-72d5526597f3"
      },
      "execution_count": null,
      "outputs": [
        {
          "output_type": "stream",
          "name": "stdout",
          "text": [
            "[1, 3, 5, 7, 9]\n"
          ]
        }
      ]
    },
    {
      "cell_type": "code",
      "source": [
        "odd=[1,3,5,5,5]\n",
        "odd"
      ],
      "metadata": {
        "colab": {
          "base_uri": "https://localhost:8080/"
        },
        "id": "gPBKPKRbRaj4",
        "outputId": "270a2c05-d63c-4bdc-8dc9-4426a7cdb186"
      },
      "execution_count": null,
      "outputs": [
        {
          "output_type": "execute_result",
          "data": {
            "text/plain": [
              "[1, 3, 5, 5, 5]"
            ]
          },
          "metadata": {},
          "execution_count": 21
        }
      ]
    },
    {
      "cell_type": "code",
      "source": [
        "odd_numbers = [1, 3, 5, 7, 9]\n",
        "#last_three_odd = odd_numbers[-3:]\n",
        "#print(\"Last 3 odd numbers:\", last_three_odd)\n",
        "odd_numbers[-2:]"
      ],
      "metadata": {
        "id": "N2-jOoflqWYS",
        "colab": {
          "base_uri": "https://localhost:8080/"
        },
        "outputId": "ffa82414-a646-400c-fbee-e65f8b295d03"
      },
      "execution_count": null,
      "outputs": [
        {
          "output_type": "execute_result",
          "data": {
            "text/plain": [
              "[7, 9]"
            ]
          },
          "metadata": {},
          "execution_count": 16
        }
      ]
    },
    {
      "cell_type": "code",
      "source": [
        "odd_numbers = [1, 3, 5, 7, 9]\n",
        "even_numbers = [2, 4, 6, 8]\n",
        "\n",
        "odd_numbers.extend(even_numbers)\n",
        "print(\"Updated list:\", odd_numbers)\n"
      ],
      "metadata": {
        "id": "SggDFMctqZ4t",
        "colab": {
          "base_uri": "https://localhost:8080/"
        },
        "outputId": "ade069e9-447f-427e-ca92-22a572cd12c9"
      },
      "execution_count": null,
      "outputs": [
        {
          "output_type": "stream",
          "name": "stdout",
          "text": [
            "Updated list: [1, 3, 5, 7, 9, 2, 4, 6, 8]\n"
          ]
        }
      ]
    },
    {
      "cell_type": "code",
      "source": [
        "odd=[1,3,5]\n",
        "even=[2,4,6]\n",
        "even.extend(odd)\n",
        "even"
      ],
      "metadata": {
        "colab": {
          "base_uri": "https://localhost:8080/"
        },
        "id": "zPNOkknuSNNa",
        "outputId": "d10a8057-8e57-4790-fff8-30530ff54436"
      },
      "execution_count": null,
      "outputs": [
        {
          "output_type": "execute_result",
          "data": {
            "text/plain": [
              "[2, 4, 6, 1, 3, 5]"
            ]
          },
          "metadata": {},
          "execution_count": 25
        }
      ]
    },
    {
      "cell_type": "code",
      "source": [
        "fruits = [\"apple\", \"banana\", \"apple\", \"orange\"]\n",
        "print(fruits)\n"
      ],
      "metadata": {
        "id": "_n4FVz4MqoBE"
      },
      "execution_count": null,
      "outputs": []
    },
    {
      "cell_type": "code",
      "source": [
        "vegetables = [\"Tomato\", \"Carrot\", \"Potato\", \"Ginger\", \"Lemon\"]\n",
        "print(vegetables)\n"
      ],
      "metadata": {
        "id": "A9wqsKxmqshz",
        "colab": {
          "base_uri": "https://localhost:8080/"
        },
        "outputId": "b1040501-7506-410b-8745-d3ba7a895629"
      },
      "execution_count": null,
      "outputs": [
        {
          "output_type": "stream",
          "name": "stdout",
          "text": [
            "['Tomato', 'Carrot', 'Potato', 'Ginger', 'Lemon']\n"
          ]
        }
      ]
    },
    {
      "cell_type": "code",
      "source": [
        "list=[1,2,3]\n",
        "list.remove(2)\n",
        "list"
      ],
      "metadata": {
        "colab": {
          "base_uri": "https://localhost:8080/"
        },
        "id": "vAJSyQabS03T",
        "outputId": "f1963afa-79ae-4454-d066-cadc308c9973"
      },
      "execution_count": null,
      "outputs": [
        {
          "output_type": "execute_result",
          "data": {
            "text/plain": [
              "[1, 3]"
            ]
          },
          "metadata": {},
          "execution_count": 23
        }
      ]
    },
    {
      "cell_type": "code",
      "source": [
        "vegetables = [\"Tomato\", \"Carrot\", \"Potato\", \"Ginger\", \"Lemon\"]\n",
        "vegetables.remove(\"Ginger\")\n",
        "vegetables\n",
        "#print(\"Updated list:\", vegetables)\n"
      ],
      "metadata": {
        "id": "WXMvGbw1qwb8",
        "colab": {
          "base_uri": "https://localhost:8080/"
        },
        "outputId": "c07e4603-d079-4639-dd28-34fd21afc70f"
      },
      "execution_count": null,
      "outputs": [
        {
          "output_type": "execute_result",
          "data": {
            "text/plain": [
              "['Tomato', 'Carrot', 'Potato', 'Lemon']"
            ]
          },
          "metadata": {},
          "execution_count": 24
        }
      ]
    },
    {
      "cell_type": "code",
      "source": [
        "vegetables = [\"Tomato\", \"Carrot\", \"Potato\", \"Ginger\", \"Lemon\"]\n",
        "#index = vegetables.index(\"Ginger\")\n",
        "vegetables.insert(3, \"Chilli\")\n",
        "vegetables\n",
        "vegetables.remove(\"Ginger\")\n",
        "print(\"Updated list:\", vegetables)\n"
      ],
      "metadata": {
        "id": "k6rmbA8qqz-t",
        "colab": {
          "base_uri": "https://localhost:8080/"
        },
        "outputId": "a2ff9601-34a1-4cca-bb67-e0c9a151f417"
      },
      "execution_count": null,
      "outputs": [
        {
          "output_type": "stream",
          "name": "stdout",
          "text": [
            "Updated list: ['Tomato', 'Carrot', 'Potato', 'Chilli', 'Lemon']\n"
          ]
        }
      ]
    },
    {
      "cell_type": "code",
      "source": [
        "list=[1,2,3]\n",
        "list.insert(1,4)\n",
        "list"
      ],
      "metadata": {
        "colab": {
          "base_uri": "https://localhost:8080/"
        },
        "id": "JaEN8yjUTZ02",
        "outputId": "5980d7e5-647e-423f-8a43-4f9a841de796"
      },
      "execution_count": null,
      "outputs": [
        {
          "output_type": "execute_result",
          "data": {
            "text/plain": [
              "[1, 4, 2, 3]"
            ]
          },
          "metadata": {},
          "execution_count": 31
        }
      ]
    },
    {
      "cell_type": "code",
      "source": [
        "vegetables = [\"Tomato\", \"Carrot\", \"Potato\", \"Chilli\", \"Lemon\", \"Avocado\", \"Artichoke\"]\n",
        "selected_vegetables = [vegetable for vegetable in vegetables if vegetable.endswith(\"o\")]\n",
        "print(\"Selected vegetables:\", selected_vegetables)\n"
      ],
      "metadata": {
        "id": "SfgQHN7Gq3lt",
        "colab": {
          "base_uri": "https://localhost:8080/"
        },
        "outputId": "e5ca1fbc-b1f2-4088-9014-aea2fbbbf43e"
      },
      "execution_count": null,
      "outputs": [
        {
          "output_type": "stream",
          "name": "stdout",
          "text": [
            "Selected vegetables: ['Tomato', 'Potato', 'Avocado']\n"
          ]
        }
      ]
    },
    {
      "cell_type": "code",
      "source": [
        "fruits = (\"Apple\", \"Banana\", \"Papaya\", \"Grapes\", \"Watermelon\")\n",
        "print(fruits)\n"
      ],
      "metadata": {
        "id": "DXjWiTSmq6Gr",
        "colab": {
          "base_uri": "https://localhost:8080/"
        },
        "outputId": "c413999e-114e-4f1b-e200-b1530c2b7138"
      },
      "execution_count": null,
      "outputs": [
        {
          "output_type": "stream",
          "name": "stdout",
          "text": [
            "('Apple', 'Banana', 'Papaya', 'Grapes', 'Watermelon')\n"
          ]
        }
      ]
    },
    {
      "cell_type": "code",
      "source": [
        "nums=(1,2,3,4,5)\n",
        "nums"
      ],
      "metadata": {
        "colab": {
          "base_uri": "https://localhost:8080/"
        },
        "id": "b0BqTVd8UxWD",
        "outputId": "a45e4905-7cc8-4ac1-f20a-58f061e8ec70"
      },
      "execution_count": null,
      "outputs": [
        {
          "output_type": "execute_result",
          "data": {
            "text/plain": [
              "(1, 2, 3, 4, 5)"
            ]
          },
          "metadata": {},
          "execution_count": 35
        }
      ]
    },
    {
      "cell_type": "code",
      "source": [
        "\n",
        "fruits = (\"Apple\", \"Banana\", \"Papaya\", \"Grapes\", \"Watermelon\")\n",
        "num_items = len(fruits)\n",
        "print(\"Number of items in the tuple:\", num_items)\n"
      ],
      "metadata": {
        "id": "unry4zsaq_n8"
      },
      "execution_count": null,
      "outputs": []
    },
    {
      "cell_type": "code",
      "source": [
        "nums=(2,5,6)\n",
        "number=len(nums)\n",
        "number"
      ],
      "metadata": {
        "colab": {
          "base_uri": "https://localhost:8080/"
        },
        "id": "RF0VQrvnU8JU",
        "outputId": "342d88d9-8d23-4f35-99aa-53207816b392"
      },
      "execution_count": null,
      "outputs": [
        {
          "output_type": "execute_result",
          "data": {
            "text/plain": [
              "3"
            ]
          },
          "metadata": {},
          "execution_count": 37
        }
      ]
    },
    {
      "cell_type": "code",
      "source": [
        "odd_numbers = (1, 3, 5, 7, 9)\n",
        "print(odd_numbers)\n"
      ],
      "metadata": {
        "id": "Pz-1WGGSrBvp",
        "colab": {
          "base_uri": "https://localhost:8080/"
        },
        "outputId": "abda95ad-cfc6-4708-b9ed-b5e14239f224"
      },
      "execution_count": null,
      "outputs": [
        {
          "output_type": "stream",
          "name": "stdout",
          "text": [
            "(1, 3, 5, 7, 9)\n"
          ]
        }
      ]
    },
    {
      "cell_type": "code",
      "source": [
        "odd_numbers = (1, 3, 5, 7, 9)\n",
        "last_three_odd = odd_numbers[-1:]\n",
        "print(\"Last 3 odd numbers:\", last_three_odd)\n"
      ],
      "metadata": {
        "id": "Yb3Mf5xCrIVr",
        "colab": {
          "base_uri": "https://localhost:8080/"
        },
        "outputId": "80aaa75d-c8cc-4122-efa6-c141d8c13eef"
      },
      "execution_count": null,
      "outputs": [
        {
          "output_type": "stream",
          "name": "stdout",
          "text": [
            "Last 3 odd numbers: (9,)\n"
          ]
        }
      ]
    },
    {
      "cell_type": "code",
      "source": [
        "odd_numbers = (1, 3, 5, 7, 9)\n",
        "even_numbers = (2, 4, 6, 8, 10, 12, 14, 16)\n",
        "\n",
        "all_numbers = odd_numbers + even_numbers\n",
        "print(\"Combined tuple:\", all_numbers)\n"
      ],
      "metadata": {
        "id": "oZD0R4pNrL9e",
        "colab": {
          "base_uri": "https://localhost:8080/"
        },
        "outputId": "98377587-3e6d-481b-eaa6-74eb07f94e2d"
      },
      "execution_count": null,
      "outputs": [
        {
          "output_type": "stream",
          "name": "stdout",
          "text": [
            "Combined tuple: (1, 3, 5, 7, 9, 2, 4, 6, 8, 10, 12, 14, 16)\n"
          ]
        }
      ]
    },
    {
      "cell_type": "code",
      "source": [
        "odd=(1,3)\n",
        "even=(2,4)\n",
        "all=even+odd\n",
        "all"
      ],
      "metadata": {
        "colab": {
          "base_uri": "https://localhost:8080/"
        },
        "id": "81fceQeeVvZK",
        "outputId": "f697f4a8-d285-4e72-daea-d1d65e81da0a"
      },
      "execution_count": null,
      "outputs": [
        {
          "output_type": "execute_result",
          "data": {
            "text/plain": [
              "(2, 4, 1, 3)"
            ]
          },
          "metadata": {},
          "execution_count": 44
        }
      ]
    },
    {
      "cell_type": "code",
      "source": [
        "my_tuple = (1, 2, 3, 2, 4, 5, 4,4,4,4)\n",
        "print(my_tuple)\n"
      ],
      "metadata": {
        "id": "bY00vpvMrRkb",
        "colab": {
          "base_uri": "https://localhost:8080/"
        },
        "outputId": "07080f12-d17b-459a-8144-43ae90c7df07"
      },
      "execution_count": null,
      "outputs": [
        {
          "output_type": "stream",
          "name": "stdout",
          "text": [
            "(1, 2, 3, 2, 4, 5, 4, 4, 4, 4)\n"
          ]
        }
      ]
    },
    {
      "cell_type": "code",
      "source": [
        "vegetables = (\"Tomato\", \"Carrot\", \"Potato\", \"Ginger\", \"Lemon\")\n",
        "print(vegetables)\n"
      ],
      "metadata": {
        "id": "N6qvkE3ArVbQ",
        "colab": {
          "base_uri": "https://localhost:8080/"
        },
        "outputId": "4063d32e-d5e3-40b6-cac2-0e0c7e941a8e"
      },
      "execution_count": null,
      "outputs": [
        {
          "output_type": "stream",
          "name": "stdout",
          "text": [
            "('Tomato', 'Carrot', 'Potato', 'Ginger', 'Lemon')\n"
          ]
        }
      ]
    },
    {
      "cell_type": "code",
      "source": [
        "vegetables = (\"Tomato\", \"Carrot\", \"Potato\", \"Ginger\", \"Lemon\")\n",
        "updated_vegetables = tuple(\"Onion\" if veg == \"Beans\" else veg for veg in vegetables)\n",
        "print(\"Updated tuple:\", updated_vegetables)\n"
      ],
      "metadata": {
        "id": "pTkGHorjrbDw",
        "colab": {
          "base_uri": "https://localhost:8080/"
        },
        "outputId": "8ed8a049-f2a0-4dd9-e929-72b4e64859f6"
      },
      "execution_count": null,
      "outputs": [
        {
          "output_type": "stream",
          "name": "stdout",
          "text": [
            "Updated tuple: ('Tomato', 'Carrot', 'Potato', 'Ginger', 'Lemon')\n"
          ]
        }
      ]
    },
    {
      "cell_type": "code",
      "source": [
        "int=(1,2,3)\n",
        "str=(\"a\",\"b\")\n",
        "update=tuple(4 if i==3 else i for i in int)\n",
        "update"
      ],
      "metadata": {
        "colab": {
          "base_uri": "https://localhost:8080/"
        },
        "id": "MZNPSyWpWaL3",
        "outputId": "e2c70664-9522-4867-cabe-a40b435afe05"
      },
      "execution_count": null,
      "outputs": [
        {
          "output_type": "execute_result",
          "data": {
            "text/plain": [
              "(1, 2, 4)"
            ]
          },
          "metadata": {},
          "execution_count": 52
        }
      ]
    },
    {
      "cell_type": "code",
      "source": [
        "fruits = (\"Apple\", \"Banana\", \"Papaya\", \"Grapes\", \"Watermelon\")\n",
        "# Packing\n",
        "packed_fruits = fruits\n",
        "print(\"Packed tuple:\", packed_fruits)\n",
        "\n",
        "# Unpacking\n",
        "f1, fruit2, fruit3, fruit4, fruit5 = fruits\n",
        "print(\"Unpacked values:\")\n",
        "print(\"Fruit 1:\", f1)\n",
        "print(\"Fruit 2:\", fruit2)\n",
        "print(\"Fruit 3:\", fruit3)\n",
        "print(\"Fruit 4:\", fruit4)\n",
        "print(\"Fruit 5:\", fruit5)\n"
      ],
      "metadata": {
        "id": "11zFT81Xrfn9",
        "colab": {
          "base_uri": "https://localhost:8080/"
        },
        "outputId": "694cb57c-8ac3-43a5-a40d-2db06be3c2f7"
      },
      "execution_count": null,
      "outputs": [
        {
          "output_type": "stream",
          "name": "stdout",
          "text": [
            "Packed tuple: ('Apple', 'Banana', 'Papaya', 'Grapes', 'Watermelon')\n",
            "Unpacked values:\n",
            "Fruit 1: Apple\n",
            "Fruit 2: Banana\n",
            "Fruit 3: Papaya\n",
            "Fruit 4: Grapes\n",
            "Fruit 5: Watermelon\n"
          ]
        }
      ]
    },
    {
      "cell_type": "code",
      "source": [
        "car_details = {\n",
        "    \"Brand\": \"Ford\",\n",
        "    \"Model\": \"Mustang\",\n",
        "    \"Manufactured year\": 1964\n",
        "}\n",
        "print(car_details)\n"
      ],
      "metadata": {
        "id": "iFr-EIRNrkB8",
        "colab": {
          "base_uri": "https://localhost:8080/"
        },
        "outputId": "5a8ba620-3c46-4b65-d845-a5238d4bbd96"
      },
      "execution_count": null,
      "outputs": [
        {
          "output_type": "stream",
          "name": "stdout",
          "text": [
            "{'Brand': 'Ford', 'Model': 'Mustang', 'Manufactured year': 1964}\n"
          ]
        }
      ]
    },
    {
      "cell_type": "code",
      "source": [
        "nums={\n",
        "    \"brand\":\"four\",\n",
        "    \"color\":\"red\"\n",
        "}\n",
        "#nums[\"num\"]=\"eight\"\n",
        "del nums[\"color\"]\n",
        "nums\n"
      ],
      "metadata": {
        "colab": {
          "base_uri": "https://localhost:8080/"
        },
        "id": "UEtSUC7rYAqI",
        "outputId": "35460d58-32c2-4341-a4a3-3505b7c467ca"
      },
      "execution_count": null,
      "outputs": [
        {
          "output_type": "execute_result",
          "data": {
            "text/plain": [
              "{'brand': 'four'}"
            ]
          },
          "metadata": {},
          "execution_count": 65
        }
      ]
    },
    {
      "cell_type": "code",
      "source": [
        "car_details = {\n",
        "    \"Brand\": \"Ford\",\n",
        "    \"Model\": \"Mustang\",\n",
        "    \"Manufactured year\": 1964\n",
        "}\n",
        "\n",
        "br = car_details[\"Brand\"]\n",
        "print(\"Brand value:\", br)\n"
      ],
      "metadata": {
        "id": "AVir9OgRrpC3",
        "colab": {
          "base_uri": "https://localhost:8080/"
        },
        "outputId": "8f5f152a-5cf8-45c4-afbb-4092928a8975"
      },
      "execution_count": null,
      "outputs": [
        {
          "output_type": "stream",
          "name": "stdout",
          "text": [
            "Brand value: Ford\n"
          ]
        }
      ]
    },
    {
      "cell_type": "code",
      "source": [
        "car_details = {\n",
        "    \"Brand\": \"Ford\",\n",
        "    \"Model\": \"Mustang\",\n",
        "    \"Manufactured year\": 1964\n",
        "}\n",
        "\n",
        "car_details[\"Color\"] = \"Red\"\n",
        "print(\"Updated car details:\", car_details)\n"
      ],
      "metadata": {
        "id": "IKiGQV0Lru_2",
        "colab": {
          "base_uri": "https://localhost:8080/"
        },
        "outputId": "1a60435c-85ad-491e-df61-91e8cdc0b1e0"
      },
      "execution_count": null,
      "outputs": [
        {
          "output_type": "stream",
          "name": "stdout",
          "text": [
            "Updated car details: {'Brand': 'Ford', 'Model': 'Mustang', 'Manufactured year': 1964, 'Color': 'Red'}\n"
          ]
        }
      ]
    },
    {
      "cell_type": "code",
      "source": [],
      "metadata": {
        "id": "dXfG4dbaYkrX"
      },
      "execution_count": null,
      "outputs": []
    },
    {
      "cell_type": "code",
      "source": [
        "car_details = {\n",
        "    \"Brand\": \"Ford\",\n",
        "    \"Model\": \"Mustang\",\n",
        "    \"Manufactured year\": 1964,\n",
        "    \"Color\": \"Red\"\n",
        "}\n",
        "\n",
        "del car_details[\"Model\"]\n",
        "print(\"Updated car details:\", car_details)\n"
      ],
      "metadata": {
        "id": "QOv8yar9ry7M"
      },
      "execution_count": null,
      "outputs": []
    },
    {
      "cell_type": "code",
      "source": [
        "car_details = {\n",
        "    \"Brand\": \"Ford\",\n",
        "    \"Model\": \"Mustang\",\n",
        "    \"Manufactured year\": 1964,\n",
        "    \"Color\": \"Red\"\n",
        "}\n",
        "\n",
        "car_details[\"Brand\"] = 'benz'\n",
        "print(\"Updated car details:\", car_details)\n"
      ],
      "metadata": {
        "id": "jCmREGyNr2ph",
        "colab": {
          "base_uri": "https://localhost:8080/"
        },
        "outputId": "61ec070b-3dfb-40e4-dd3f-613676b7aa6e"
      },
      "execution_count": null,
      "outputs": [
        {
          "output_type": "stream",
          "name": "stdout",
          "text": [
            "Updated car details: {'Brand': 'benz', 'Model': 'Mustang', 'Manufactured year': 1964, 'Color': 'Red'}\n"
          ]
        }
      ]
    },
    {
      "cell_type": "code",
      "source": [
        "devices = {\"TV\", \"Mobile\", \"Speaker\", \"Bluetooth\", \"Laptop\"}\n",
        "print(devices)\n"
      ],
      "metadata": {
        "id": "wC0lsBMzr7ZE",
        "colab": {
          "base_uri": "https://localhost:8080/"
        },
        "outputId": "8029a34e-3556-454c-c0a2-b536b37b7cca"
      },
      "execution_count": null,
      "outputs": [
        {
          "output_type": "stream",
          "name": "stdout",
          "text": [
            "{'Mobile', 'Bluetooth', 'Laptop', 'Speaker', 'TV'}\n"
          ]
        }
      ]
    },
    {
      "cell_type": "code",
      "source": [
        "nums={1,2,3,4,4,5,5,5,5,55,5,7}\n",
        "nums"
      ],
      "metadata": {
        "colab": {
          "base_uri": "https://localhost:8080/"
        },
        "id": "uJ3TUTW4aMeg",
        "outputId": "bf826894-d35d-4059-e896-c616ecf47efb"
      },
      "execution_count": null,
      "outputs": [
        {
          "output_type": "execute_result",
          "data": {
            "text/plain": [
              "{1, 2, 3, 4, 5, 7, 55}"
            ]
          },
          "metadata": {},
          "execution_count": 68
        }
      ]
    },
    {
      "cell_type": "code",
      "source": [
        "devices = {\"TV\", \"Mobile\", \"Speaker\", \"Bluetooth\", \"Laptop\"}\n",
        "\n",
        "for device in devices:\n",
        "    print(device)\n"
      ],
      "metadata": {
        "id": "PBtRmjzKsAnW",
        "colab": {
          "base_uri": "https://localhost:8080/"
        },
        "outputId": "3b98e759-32cc-4684-cd86-77e2c5fbc547"
      },
      "execution_count": null,
      "outputs": [
        {
          "output_type": "stream",
          "name": "stdout",
          "text": [
            "Mobile\n",
            "Bluetooth\n",
            "Laptop\n",
            "Speaker\n",
            "TV\n"
          ]
        }
      ]
    },
    {
      "cell_type": "code",
      "source": [
        "my_set = {1, 2, 3, 2, 4, 5, 4}\n",
        "print(my_set)\n"
      ],
      "metadata": {
        "id": "EKsJlGT4sBTM",
        "colab": {
          "base_uri": "https://localhost:8080/"
        },
        "outputId": "097e58c3-b2bc-4c16-cc7d-63ddc52a912d"
      },
      "execution_count": null,
      "outputs": [
        {
          "output_type": "stream",
          "name": "stdout",
          "text": [
            "{1, 2, 3, 4, 5}\n"
          ]
        }
      ]
    },
    {
      "cell_type": "code",
      "source": [
        "devices = {\"TV\", \"Mobile\", \"Speaker\", \"Bluetooth\", \"Laptop\"}\n",
        "devices.add(\"Charger\")\n",
        "print(devices)\n"
      ],
      "metadata": {
        "id": "X94GyXvzsEz-",
        "colab": {
          "base_uri": "https://localhost:8080/"
        },
        "outputId": "06585317-96cd-4545-c77c-368859d8c27d"
      },
      "execution_count": null,
      "outputs": [
        {
          "output_type": "stream",
          "name": "stdout",
          "text": [
            "{'Mobile', 'Bluetooth', 'Laptop', 'Speaker', 'Charger', 'TV'}\n"
          ]
        }
      ]
    },
    {
      "cell_type": "code",
      "source": [
        "devices = {'Speaker', 'Laptop', 'TV', 'Mobile', 'Charger', 'Bluetooth'}\n",
        "devices.remove(\"Bluetooth\")\n",
        "print(devices)\n"
      ],
      "metadata": {
        "id": "Trk_vyLZsHjA",
        "colab": {
          "base_uri": "https://localhost:8080/"
        },
        "outputId": "dbd47da8-4437-4282-ebd9-d0102c2800da"
      },
      "execution_count": null,
      "outputs": [
        {
          "output_type": "stream",
          "name": "stdout",
          "text": [
            "{'Mobile', 'Laptop', 'Speaker', 'Charger', 'TV'}\n"
          ]
        }
      ]
    },
    {
      "cell_type": "code",
      "source": [
        "sets={1,2,3}\n",
        "sets.add(6)\n",
        "sets.remove(2)\n",
        "sets"
      ],
      "metadata": {
        "colab": {
          "base_uri": "https://localhost:8080/"
        },
        "id": "uyc1ucY1aol3",
        "outputId": "e72d5632-e810-4f70-a329-885d685c469f"
      },
      "execution_count": null,
      "outputs": [
        {
          "output_type": "execute_result",
          "data": {
            "text/plain": [
              "{1, 3, 6}"
            ]
          },
          "metadata": {},
          "execution_count": 78
        }
      ]
    },
    {
      "cell_type": "code",
      "source": [
        "sets={1,2,3}\n",
        "sets.remove(2)\n",
        "sets"
      ],
      "metadata": {
        "colab": {
          "base_uri": "https://localhost:8080/"
        },
        "id": "UmtoDr2aatKX",
        "outputId": "30d2ea02-5710-4346-cda0-dc3d7865b66c"
      },
      "execution_count": null,
      "outputs": [
        {
          "output_type": "execute_result",
          "data": {
            "text/plain": [
              "{1, 3}"
            ]
          },
          "metadata": {},
          "execution_count": 77
        }
      ]
    },
    {
      "cell_type": "code",
      "source": [
        "a=24\n",
        "a!=32"
      ],
      "metadata": {
        "colab": {
          "base_uri": "https://localhost:8080/"
        },
        "id": "0w5aaMThQmUO",
        "outputId": "81cd3728-d8aa-4653-8b9b-740b210a5f5e"
      },
      "execution_count": null,
      "outputs": [
        {
          "output_type": "execute_result",
          "data": {
            "text/plain": [
              "True"
            ]
          },
          "metadata": {},
          "execution_count": 1
        }
      ]
    },
    {
      "cell_type": "code",
      "source": [
        "a=24\n",
        "a==32"
      ],
      "metadata": {
        "id": "QxTkvSeHQprT",
        "colab": {
          "base_uri": "https://localhost:8080/"
        },
        "outputId": "6ee638f8-f2b0-42cb-808c-4226dbb29dc0"
      },
      "execution_count": null,
      "outputs": [
        {
          "output_type": "execute_result",
          "data": {
            "text/plain": [
              "False"
            ]
          },
          "metadata": {},
          "execution_count": 1
        }
      ]
    },
    {
      "cell_type": "code",
      "source": [
        "a=7\n",
        "a>9"
      ],
      "metadata": {
        "colab": {
          "base_uri": "https://localhost:8080/"
        },
        "id": "Dl19eBy9Xy-l",
        "outputId": "a79618ba-938f-4cbf-b59d-8ffa5902b470"
      },
      "execution_count": null,
      "outputs": [
        {
          "output_type": "execute_result",
          "data": {
            "text/plain": [
              "False"
            ]
          },
          "metadata": {},
          "execution_count": 2
        }
      ]
    },
    {
      "cell_type": "code",
      "source": [
        "i=9\n",
        "i==5"
      ],
      "metadata": {
        "colab": {
          "base_uri": "https://localhost:8080/"
        },
        "id": "UUEoJHM4X3YO",
        "outputId": "165baa56-b766-429e-ccfe-95cf389ac6f4"
      },
      "execution_count": null,
      "outputs": [
        {
          "output_type": "execute_result",
          "data": {
            "text/plain": [
              "False"
            ]
          },
          "metadata": {},
          "execution_count": 3
        }
      ]
    },
    {
      "cell_type": "code",
      "source": [
        "a=24\n",
        "a<32"
      ],
      "metadata": {
        "id": "DtbRShQYQr7H",
        "colab": {
          "base_uri": "https://localhost:8080/"
        },
        "outputId": "fe9bef90-1d21-4e87-f31c-7388e7a294ce"
      },
      "execution_count": null,
      "outputs": [
        {
          "output_type": "execute_result",
          "data": {
            "text/plain": [
              "True"
            ]
          },
          "metadata": {},
          "execution_count": 4
        }
      ]
    },
    {
      "cell_type": "code",
      "source": [
        "a=24\n",
        "a>32"
      ],
      "metadata": {
        "id": "-xe4bra2Q_dW",
        "colab": {
          "base_uri": "https://localhost:8080/"
        },
        "outputId": "dc7f7f0f-8295-42ab-e1a8-619954cc8ed8"
      },
      "execution_count": null,
      "outputs": [
        {
          "output_type": "execute_result",
          "data": {
            "text/plain": [
              "False"
            ]
          },
          "metadata": {},
          "execution_count": 5
        }
      ]
    },
    {
      "cell_type": "code",
      "source": [
        "a=24\n",
        "a>=32"
      ],
      "metadata": {
        "id": "mvIoWJDXRBtu",
        "colab": {
          "base_uri": "https://localhost:8080/"
        },
        "outputId": "9194a218-2fb8-4130-bfc7-28d437f7da7c"
      },
      "execution_count": null,
      "outputs": [
        {
          "output_type": "execute_result",
          "data": {
            "text/plain": [
              "False"
            ]
          },
          "metadata": {},
          "execution_count": 6
        }
      ]
    },
    {
      "cell_type": "code",
      "source": [
        "a=24\n",
        "a<=32"
      ],
      "metadata": {
        "id": "fjlZu49bRHde",
        "colab": {
          "base_uri": "https://localhost:8080/"
        },
        "outputId": "dac5fd68-b4d9-49ec-8d8e-6bacabb81054"
      },
      "execution_count": null,
      "outputs": [
        {
          "output_type": "execute_result",
          "data": {
            "text/plain": [
              "True"
            ]
          },
          "metadata": {},
          "execution_count": 7
        }
      ]
    },
    {
      "cell_type": "code",
      "source": [
        "a = 10\n",
        "b = 20\n",
        "if a<b:\n",
        "  print(\"a is lesser\")"
      ],
      "metadata": {
        "colab": {
          "base_uri": "https://localhost:8080/"
        },
        "id": "J_pWe0cqRTec",
        "outputId": "98919c7c-f7e3-463a-a17f-d740bad3e2ac"
      },
      "execution_count": null,
      "outputs": [
        {
          "output_type": "stream",
          "name": "stdout",
          "text": [
            "a is lesser\n"
          ]
        }
      ]
    },
    {
      "cell_type": "code",
      "source": [
        "a = 30\n",
        "b = 3\n",
        "if b > a:\n",
        "  print(\"b is greater than a\")\n",
        "elif a == b:\n",
        "  print(\"a and b are equal\")\n",
        "elif b<a:\n",
        "  print(\"b is lesser\")"
      ],
      "metadata": {
        "colab": {
          "base_uri": "https://localhost:8080/"
        },
        "id": "uTCwhg8vRXMh",
        "outputId": "ec132d86-8373-40d2-c533-fbccbe6a6df6"
      },
      "execution_count": null,
      "outputs": [
        {
          "output_type": "stream",
          "name": "stdout",
          "text": [
            "b is lesser\n"
          ]
        }
      ]
    },
    {
      "cell_type": "code",
      "source": [
        "a = 200\n",
        "b = 33\n",
        "if b > a:\n",
        "  print(\"b is greater than a\")\n",
        "elif a == b:\n",
        "  print(\"a and b are equal\")\n",
        "else:\n",
        "  print(\"a is greater than b\")"
      ],
      "metadata": {
        "id": "Uh24pCtuRcO3",
        "colab": {
          "base_uri": "https://localhost:8080/"
        },
        "outputId": "709774ec-fe2a-462f-b2d5-5ce441a8b481"
      },
      "execution_count": null,
      "outputs": [
        {
          "output_type": "stream",
          "name": "stdout",
          "text": [
            "a is greater than b\n"
          ]
        }
      ]
    },
    {
      "cell_type": "code",
      "source": [
        "a=2\n",
        "b=8\n",
        "if a>b:\n",
        "   print(\"a greater\")\n",
        "else:\n",
        "  print(\"a lesser\")"
      ],
      "metadata": {
        "colab": {
          "base_uri": "https://localhost:8080/"
        },
        "id": "ltC4jZR1aMKv",
        "outputId": "6c3bc415-84a8-4d4c-b0ba-df8c038a319e"
      },
      "execution_count": null,
      "outputs": [
        {
          "output_type": "stream",
          "name": "stdout",
          "text": [
            "a lesser\n"
          ]
        }
      ]
    },
    {
      "cell_type": "code",
      "source": [
        "List = [\"Diary”, “Record”, “Notes”, “Manual”, “Text book”, “Xerox\", \"Book\", \"Laptop\"]\n",
        "for x in List:\n",
        "  print(x)"
      ],
      "metadata": {
        "id": "QBLCsjwkRnYz",
        "colab": {
          "base_uri": "https://localhost:8080/"
        },
        "outputId": "cd389eef-d875-4d2c-99d5-afeb171c1a1a"
      },
      "execution_count": null,
      "outputs": [
        {
          "output_type": "stream",
          "name": "stdout",
          "text": [
            "Diary”, “Record”, “Notes”, “Manual”, “Text book”, “Xerox\n",
            "Book\n",
            "Laptop\n"
          ]
        }
      ]
    },
    {
      "cell_type": "code",
      "source": [
        "colors=[\"red\",\"white\",\"pink\"]\n",
        "for x in colors:\n",
        "  print(x)"
      ],
      "metadata": {
        "colab": {
          "base_uri": "https://localhost:8080/"
        },
        "id": "uX-PFMawbs9Q",
        "outputId": "794da902-6b0d-4318-e969-342be7d4b152"
      },
      "execution_count": null,
      "outputs": [
        {
          "output_type": "stream",
          "name": "stdout",
          "text": [
            "red\n",
            "white\n",
            "pink\n"
          ]
        }
      ]
    },
    {
      "cell_type": "code",
      "source": [
        "List = [\"Diary”, “Record”, “Notes”, “Manual”, “Text book”, “Xerox\"]\n",
        "for x in List:\n",
        "  print(x)"
      ],
      "metadata": {
        "colab": {
          "base_uri": "https://localhost:8080/"
        },
        "id": "guGeglKGRyg4",
        "outputId": "9d87ef81-d4b2-49f0-e30a-b1dc228d57c7"
      },
      "execution_count": null,
      "outputs": [
        {
          "output_type": "stream",
          "name": "stdout",
          "text": [
            "Diary”, “Record”, “Notes”, “Manual”, “Text book”, “Xerox\n"
          ]
        }
      ]
    },
    {
      "cell_type": "code",
      "source": [
        "items = [\"Diary\", \"Record\", \"Notes\", \"Manual\", \"Text book\", \"Xerox\"]\n",
        "\n",
        "for item in items:\n",
        "    print(item)\n",
        "    if item == \"Notes\":\n",
        "        break"
      ],
      "metadata": {
        "id": "mA-rxnv2R83P",
        "colab": {
          "base_uri": "https://localhost:8080/"
        },
        "outputId": "6c05374e-5215-4f8f-c584-f0546ef5b263"
      },
      "execution_count": null,
      "outputs": [
        {
          "output_type": "stream",
          "name": "stdout",
          "text": [
            "Diary\n",
            "Record\n",
            "Notes\n"
          ]
        }
      ]
    },
    {
      "cell_type": "code",
      "source": [
        "list=[1,2,3]\n",
        "for x in list:\n",
        "  print(x)\n",
        "  if x==2:\n",
        "    break\n",
        "\n"
      ],
      "metadata": {
        "colab": {
          "base_uri": "https://localhost:8080/"
        },
        "id": "IBS0LyyDcxk8",
        "outputId": "52e4ccff-d19d-4cff-c6d8-26154bea2a82"
      },
      "execution_count": null,
      "outputs": [
        {
          "output_type": "stream",
          "name": "stdout",
          "text": [
            "1\n",
            "2\n"
          ]
        }
      ]
    },
    {
      "cell_type": "code",
      "source": [
        "list=[1,2,3,5,8]\n",
        "for i in list:\n",
        "  #print(i)\n",
        "  if i==2:\n",
        "    break\n",
        "    print(i)\n",
        "    #print(i)\n"
      ],
      "metadata": {
        "id": "DldbPTYLqLKz"
      },
      "execution_count": null,
      "outputs": []
    },
    {
      "cell_type": "code",
      "source": [
        "items = [\"Diary\", \"Record\", \"Notes\", \"Manual\", \"Text book\", \"Xerox\"]\n",
        "\n",
        "for item in items:\n",
        "    if item == \"Xerox\":\n",
        "        continue\n",
        "    print(item)"
      ],
      "metadata": {
        "id": "H1aG3cYVSDHK",
        "colab": {
          "base_uri": "https://localhost:8080/"
        },
        "outputId": "c17e67ca-2e0d-4e0a-caf8-ab130c285dfe"
      },
      "execution_count": null,
      "outputs": [
        {
          "output_type": "stream",
          "name": "stdout",
          "text": [
            "Diary\n",
            "Record\n",
            "Notes\n",
            "Manual\n",
            "Text book\n"
          ]
        }
      ]
    },
    {
      "cell_type": "code",
      "source": [
        "for x in range (2, 30, 3):\n",
        "  print(x)\n"
      ],
      "metadata": {
        "id": "CvNL8u5ZSK7s",
        "colab": {
          "base_uri": "https://localhost:8080/"
        },
        "outputId": "fec1e057-e809-44a0-c355-fe422292c58d"
      },
      "execution_count": null,
      "outputs": [
        {
          "output_type": "stream",
          "name": "stdout",
          "text": [
            "2\n",
            "5\n",
            "8\n",
            "11\n",
            "14\n",
            "17\n",
            "20\n",
            "23\n",
            "26\n",
            "29\n"
          ]
        }
      ]
    },
    {
      "cell_type": "code",
      "source": [
        "for x in range(100,1,-7):\n",
        "  print(x)"
      ],
      "metadata": {
        "colab": {
          "base_uri": "https://localhost:8080/"
        },
        "id": "j58CpK2fetSg",
        "outputId": "1bbc0896-0b46-444d-e751-4839380ad932"
      },
      "execution_count": null,
      "outputs": [
        {
          "output_type": "stream",
          "name": "stdout",
          "text": [
            "100\n",
            "93\n",
            "86\n",
            "79\n",
            "72\n",
            "65\n",
            "58\n",
            "51\n",
            "44\n",
            "37\n",
            "30\n",
            "23\n",
            "16\n",
            "9\n",
            "2\n"
          ]
        }
      ]
    },
    {
      "cell_type": "code",
      "source": [
        "for x in range (7):\n",
        "  print(x)\n",
        "else:\n",
        "   print(\"finish\")"
      ],
      "metadata": {
        "id": "bm5WMeyrSXHI",
        "colab": {
          "base_uri": "https://localhost:8080/"
        },
        "outputId": "b13c3255-f173-47be-b7c8-5a2b034cdb1e"
      },
      "execution_count": null,
      "outputs": [
        {
          "output_type": "stream",
          "name": "stdout",
          "text": [
            "0\n",
            "1\n",
            "2\n",
            "3\n",
            "4\n",
            "5\n",
            "6\n",
            "finish\n"
          ]
        }
      ]
    },
    {
      "cell_type": "code",
      "source": [
        "\n",
        "adj = [\"big\",\"amazing\",\"small\",\"blue\"]\n",
        "List = [\"Diary”, “Record”, “Notes”, “Manual”, “Text book”, “Xerox\"]\n",
        "for x in adj:\n",
        "  for y in List:\n",
        "    print(x, y)"
      ],
      "metadata": {
        "id": "QOtkEhSwSdDf",
        "colab": {
          "base_uri": "https://localhost:8080/"
        },
        "outputId": "2cea5923-a8d4-48bb-df5a-ffeb67ab00bb"
      },
      "execution_count": null,
      "outputs": [
        {
          "output_type": "stream",
          "name": "stdout",
          "text": [
            "big Diary”, “Record”, “Notes”, “Manual”, “Text book”, “Xerox\n",
            "amazing Diary”, “Record”, “Notes”, “Manual”, “Text book”, “Xerox\n",
            "small Diary”, “Record”, “Notes”, “Manual”, “Text book”, “Xerox\n",
            "blue Diary”, “Record”, “Notes”, “Manual”, “Text book”, “Xerox\n"
          ]
        }
      ]
    },
    {
      "cell_type": "code",
      "source": [
        "a=[1,2,3]\n",
        "b=[4,5,6]\n",
        "for x in a:\n",
        "  for y in b:\n",
        "    print(x,y)"
      ],
      "metadata": {
        "colab": {
          "base_uri": "https://localhost:8080/"
        },
        "id": "zg03qCSbf8WJ",
        "outputId": "ce092cf4-a0c2-4b71-8679-639ce67125e6"
      },
      "execution_count": null,
      "outputs": [
        {
          "output_type": "stream",
          "name": "stdout",
          "text": [
            "1 4\n",
            "1 5\n",
            "1 6\n",
            "2 4\n",
            "2 5\n",
            "2 6\n",
            "3 4\n",
            "3 5\n",
            "3 6\n"
          ]
        }
      ]
    },
    {
      "cell_type": "code",
      "source": [
        "num = 0\n",
        "while num == 15:\n",
        "    print(num)\n",
        "    num += 1#num=num+1"
      ],
      "metadata": {
        "id": "BGIsQ0KtSnen"
      },
      "execution_count": null,
      "outputs": []
    },
    {
      "cell_type": "code",
      "source": [
        "num = 0\n",
        "while num < 6:\n",
        "    print(num)\n",
        "    if num == 3:\n",
        "        break\n",
        "    num=num+1"
      ],
      "metadata": {
        "colab": {
          "base_uri": "https://localhost:8080/"
        },
        "id": "iKRHZl_dS6Ak",
        "outputId": "c1fe8bd5-0e4a-4e8f-bee4-34ed27975456"
      },
      "execution_count": null,
      "outputs": [
        {
          "output_type": "stream",
          "name": "stdout",
          "text": [
            "0\n",
            "1\n",
            "2\n",
            "3\n"
          ]
        }
      ]
    },
    {
      "cell_type": "code",
      "source": [
        "num = 0\n",
        "while num < 6:\n",
        "    if num == 3:\n",
        "        num += 1\n",
        "        continue\n",
        "    print(num)\n",
        "    num += 1"
      ],
      "metadata": {
        "colab": {
          "base_uri": "https://localhost:8080/"
        },
        "id": "qBlhyFaSS-_G",
        "outputId": "83ca1db8-c247-4358-8112-0da294de4763"
      },
      "execution_count": null,
      "outputs": [
        {
          "output_type": "stream",
          "name": "stdout",
          "text": [
            "0\n",
            "1\n",
            "2\n",
            "4\n",
            "5\n"
          ]
        }
      ]
    },
    {
      "cell_type": "code",
      "source": [
        "for num in range(4):\n",
        "    print(num)\n",
        "else:\n",
        "    print(\"Loop completed\")"
      ],
      "metadata": {
        "colab": {
          "base_uri": "https://localhost:8080/"
        },
        "id": "adl9dNZ-TJvz",
        "outputId": "74ae98e9-7bc2-4824-f9a9-857e3d65ae90"
      },
      "execution_count": null,
      "outputs": [
        {
          "output_type": "stream",
          "name": "stdout",
          "text": [
            "0\n",
            "1\n",
            "2\n",
            "3\n",
            "Loop completed\n"
          ]
        }
      ]
    },
    {
      "cell_type": "code",
      "source": [
        "x = -1\n",
        "\n",
        "if x < 0:\n",
        "  raise Exception(\"Sorry, no numbers below zero\")"
      ],
      "metadata": {
        "colab": {
          "base_uri": "https://localhost:8080/",
          "height": 210
        },
        "id": "GLS1nW-KTK1x",
        "outputId": "23621efc-ded2-4f2a-ab8d-f1f338cbcf39"
      },
      "execution_count": null,
      "outputs": [
        {
          "output_type": "error",
          "ename": "Exception",
          "evalue": "ignored",
          "traceback": [
            "\u001b[0;31m---------------------------------------------------------------------------\u001b[0m",
            "\u001b[0;31mException\u001b[0m                                 Traceback (most recent call last)",
            "\u001b[0;32m<ipython-input-58-2edc57024fbc>\u001b[0m in \u001b[0;36m<cell line: 3>\u001b[0;34m()\u001b[0m\n\u001b[1;32m      2\u001b[0m \u001b[0;34m\u001b[0m\u001b[0m\n\u001b[1;32m      3\u001b[0m \u001b[0;32mif\u001b[0m \u001b[0mx\u001b[0m \u001b[0;34m<\u001b[0m \u001b[0;36m0\u001b[0m\u001b[0;34m:\u001b[0m\u001b[0;34m\u001b[0m\u001b[0;34m\u001b[0m\u001b[0m\n\u001b[0;32m----> 4\u001b[0;31m   \u001b[0;32mraise\u001b[0m \u001b[0mException\u001b[0m\u001b[0;34m(\u001b[0m\u001b[0;34m\"Sorry, no numbers below zero\"\u001b[0m\u001b[0;34m)\u001b[0m\u001b[0;34m\u001b[0m\u001b[0;34m\u001b[0m\u001b[0m\n\u001b[0m",
            "\u001b[0;31mException\u001b[0m: Sorry, no numbers below zero"
          ]
        }
      ]
    },
    {
      "cell_type": "code",
      "source": [
        "def All_is_well():\n",
        "    print(\"Everything is well!\")\n",
        "\n",
        "# Call the function\n",
        "All_is_well()"
      ],
      "metadata": {
        "id": "0jh5E_S1NFw8",
        "colab": {
          "base_uri": "https://localhost:8080/"
        },
        "outputId": "68530162-e0c8-4b57-c49e-6b6d483799ba"
      },
      "execution_count": null,
      "outputs": [
        {
          "output_type": "stream",
          "name": "stdout",
          "text": [
            "Everything is well!\n"
          ]
        }
      ]
    },
    {
      "cell_type": "code",
      "source": [
        "def function():\n",
        "  print(\"hi\")\n",
        "function()"
      ],
      "metadata": {
        "colab": {
          "base_uri": "https://localhost:8080/"
        },
        "id": "EBVscFWb1UnW",
        "outputId": "be18b2f6-4872-4684-a18a-71fc621c74e7"
      },
      "execution_count": null,
      "outputs": [
        {
          "output_type": "stream",
          "name": "stdout",
          "text": [
            "hi\n"
          ]
        }
      ]
    },
    {
      "cell_type": "code",
      "source": [
        "n = 100\n",
        "fact = 1\n",
        "for i in range(1, n+1):\n",
        "    fact = fact * i\n",
        "#print(\"The factorial of 100 is : \", end=\"\")\n",
        "print(fact)"
      ],
      "metadata": {
        "id": "eoHfOxELO2Hn",
        "colab": {
          "base_uri": "https://localhost:8080/"
        },
        "outputId": "0217ffa0-d809-4641-f723-a8f9e47e0d32"
      },
      "execution_count": null,
      "outputs": [
        {
          "output_type": "stream",
          "name": "stdout",
          "text": [
            "93326215443944152681699238856266700490715968264381621468592963895217599993229915608941463976156518286253697920827223758251185210916864000000000000000000000000\n"
          ]
        }
      ]
    },
    {
      "cell_type": "code",
      "source": [
        "def my_function(fname):\n",
        "  print(fname+ \"Thomas\")\n",
        "\n",
        "my_function(\"Edison\")\n",
        "my_function(\"Dewey\")"
      ],
      "metadata": {
        "id": "LtfkTFwbNKgT",
        "colab": {
          "base_uri": "https://localhost:8080/"
        },
        "outputId": "52f98b44-36e5-4d45-ee21-68344ba97ab5"
      },
      "execution_count": null,
      "outputs": [
        {
          "output_type": "stream",
          "name": "stdout",
          "text": [
            "EdisonThomas\n",
            "DeweyThomas\n"
          ]
        }
      ]
    },
    {
      "cell_type": "code",
      "source": [
        "def find_square(integer1=5625):\n",
        "    result = integer1 * integer1\n",
        "    return result\n",
        "result = find_square()\n",
        "print(result)"
      ],
      "metadata": {
        "colab": {
          "base_uri": "https://localhost:8080/"
        },
        "id": "wnNwQynCNNVk",
        "outputId": "5f740f54-8861-4b64-c84e-4fd20ff578ce"
      },
      "execution_count": null,
      "outputs": [
        {
          "output_type": "stream",
          "name": "stdout",
          "text": [
            "31640625\n"
          ]
        }
      ]
    },
    {
      "cell_type": "code",
      "source": [
        "def squ(int=8):\n",
        "  res=int*int\n",
        "  return res\n",
        "res=squ()\n",
        "print(res)"
      ],
      "metadata": {
        "colab": {
          "base_uri": "https://localhost:8080/"
        },
        "id": "wgadzE9q27nY",
        "outputId": "89ccb479-e385-43df-920f-9124e9e03b8c"
      },
      "execution_count": null,
      "outputs": [
        {
          "output_type": "stream",
          "name": "stdout",
          "text": [
            "64\n"
          ]
        }
      ]
    },
    {
      "cell_type": "code",
      "source": [
        "def find_sq(int1=45):\n",
        "  result=int1*int1\n",
        "  return result\n",
        "result=find_sq()\n",
        "print(result)\n"
      ],
      "metadata": {
        "id": "uB4yqby8mJjG",
        "colab": {
          "base_uri": "https://localhost:8080/"
        },
        "outputId": "b64d9047-1d42-4d90-cde1-952e75cdf0d5"
      },
      "execution_count": null,
      "outputs": [
        {
          "output_type": "stream",
          "name": "stdout",
          "text": [
            "2025\n"
          ]
        }
      ]
    },
    {
      "cell_type": "code",
      "source": [
        "def add(*num):\n",
        "    sum = 0;\n",
        "    for n in num:\n",
        "        sum = sum + n;\n",
        "    print(\"Sum:\", sum)\n",
        "\n",
        "\n",
        "add(1,2,3,5,6,7,8,9,3,5)\n",
        "add(1,2,3)\n",
        "add(2,4)"
      ],
      "metadata": {
        "colab": {
          "base_uri": "https://localhost:8080/"
        },
        "id": "4aXTAxIgNQva",
        "outputId": "b5dd1953-d11a-4a40-ea3e-b9cb4bc853bc"
      },
      "execution_count": null,
      "outputs": [
        {
          "output_type": "stream",
          "name": "stdout",
          "text": [
            "Sum: 49\n",
            "Sum: 6\n",
            "Sum: 6\n"
          ]
        }
      ]
    },
    {
      "cell_type": "code",
      "source": [
        "def myfun(Candidate1, Candidate2, Candidate3):\n",
        "  print(\"The PM of India is \" + Candidate1)\n",
        "\n",
        "myfun(Candidate1 = \"Narendra Modi\",\n",
        "      Candidate2 = \"Droupadi Murmu\",\n",
        "      Candidate3 = \"Gandhi\")"
      ],
      "metadata": {
        "id": "lkhx44TYNYtU",
        "colab": {
          "base_uri": "https://localhost:8080/"
        },
        "outputId": "e6d0629e-efe5-45aa-c6a8-96e586b2dc5a"
      },
      "execution_count": null,
      "outputs": [
        {
          "output_type": "stream",
          "name": "stdout",
          "text": [
            "The PM of India is Narendra Modi\n"
          ]
        }
      ]
    },
    {
      "cell_type": "code",
      "source": [
        "def isPalindrome(s):\n",
        "    return s == s[::-1]\n",
        "\n",
        "\n",
        "# Driver code\n",
        "s = \"malayalam\"\n",
        "ans = isPalindrome(s)\n",
        "\n",
        "if ans:\n",
        "    print(\"Yes\")\n",
        "else:\n",
        "    print(\"No\")"
      ],
      "metadata": {
        "colab": {
          "base_uri": "https://localhost:8080/"
        },
        "id": "CDQmNEyM8CVG",
        "outputId": "1364f869-b4e9-438f-cefd-01251cf4d41a"
      },
      "execution_count": null,
      "outputs": [
        {
          "output_type": "stream",
          "name": "stdout",
          "text": [
            "Yes\n"
          ]
        }
      ]
    },
    {
      "cell_type": "code",
      "source": [
        "setA = {10, 20, 30, 40, 80}\n",
        "setB = {10, 20, 80, 40, 50}\n",
        "difference = setA - setB\n",
        "print(difference)\n",
        "#items present only in the first set and not in second set are returned"
      ],
      "metadata": {
        "colab": {
          "base_uri": "https://localhost:8080/"
        },
        "id": "XYHDHCBoNc3x",
        "outputId": "305abd11-7dee-4e30-a1f3-36ed62ec8232"
      },
      "execution_count": null,
      "outputs": [
        {
          "output_type": "stream",
          "name": "stdout",
          "text": [
            "{30}\n"
          ]
        }
      ]
    },
    {
      "cell_type": "code",
      "source": [
        "setA={1,2,3}\n",
        "setB={4,5,3}\n",
        "difference=setB-setA\n",
        "print(difference)"
      ],
      "metadata": {
        "colab": {
          "base_uri": "https://localhost:8080/"
        },
        "id": "EptOmyQU9I6w",
        "outputId": "9efdf0c9-7f3a-4f46-916a-830b05a6b562"
      },
      "execution_count": null,
      "outputs": [
        {
          "output_type": "stream",
          "name": "stdout",
          "text": [
            "{4, 5}\n"
          ]
        }
      ]
    },
    {
      "cell_type": "code",
      "source": [
        "setA = {10, 20, 30, 40, 80}\n",
        "setB = {100, 30, 80, 40, 60}\n",
        "setB.add(9)\n",
        "print(setB)"
      ],
      "metadata": {
        "colab": {
          "base_uri": "https://localhost:8080/"
        },
        "id": "6hsOMHqNNhc6",
        "outputId": "3fa390b2-636b-464b-a1c4-c3827b84e062"
      },
      "execution_count": null,
      "outputs": [
        {
          "output_type": "stream",
          "name": "stdout",
          "text": [
            "{80, 100, 40, 9, 60, 30}\n"
          ]
        }
      ]
    },
    {
      "cell_type": "code",
      "source": [
        "set1={1,2,3}\n",
        "set2={9,7,6}\n",
        "set1.add(5)\n",
        "print(set1)"
      ],
      "metadata": {
        "colab": {
          "base_uri": "https://localhost:8080/"
        },
        "id": "D-Fx61Pg9qUD",
        "outputId": "3cec0c86-8c95-4fb6-e2ed-7e252a0ead01"
      },
      "execution_count": null,
      "outputs": [
        {
          "output_type": "stream",
          "name": "stdout",
          "text": [
            "{1, 2, 3, 5}\n"
          ]
        }
      ]
    },
    {
      "cell_type": "code",
      "source": [
        "setA = {10, 20, 30, 40, 80}\n",
        "setB = {100, 30, 80, 40, 60}\n",
        "setA.clear()\n",
        "print(setA)"
      ],
      "metadata": {
        "colab": {
          "base_uri": "https://localhost:8080/"
        },
        "id": "PLNvhG2RNqsS",
        "outputId": "04e60254-5c39-418d-e3b7-0a46702c9b7a"
      },
      "execution_count": null,
      "outputs": [
        {
          "output_type": "stream",
          "name": "stdout",
          "text": [
            "set()\n"
          ]
        }
      ]
    },
    {
      "cell_type": "code",
      "source": [
        "my_list = [10, 2, 8, 7, 5, 4, 3, 11, 0, 1]\n",
        "result = list(filter(lambda x: x > 6, my_list))\n",
        "print(result)\n"
      ],
      "metadata": {
        "colab": {
          "base_uri": "https://localhost:8080/"
        },
        "id": "twEH5BqaNyEk",
        "outputId": "f656e472-d20b-404c-c89b-8623e7300ffc"
      },
      "execution_count": null,
      "outputs": [
        {
          "output_type": "stream",
          "name": "stdout",
          "text": [
            "[10, 8, 7, 11]\n"
          ]
        }
      ]
    },
    {
      "cell_type": "code",
      "source": [
        "my_list = [10, 2, 8, 7, 5, 4, 3, 11, 0, 1]\n",
        "result = list(filter(lambda x:x%2!=0, my_list))\n",
        "print(result)"
      ],
      "metadata": {
        "colab": {
          "base_uri": "https://localhost:8080/"
        },
        "id": "SpJ8dSNv_EmX",
        "outputId": "2d87148c-5828-4d82-bb46-c1e7317c2c07"
      },
      "execution_count": null,
      "outputs": [
        {
          "output_type": "stream",
          "name": "stdout",
          "text": [
            "[7, 5, 3, 11, 1]\n"
          ]
        }
      ]
    },
    {
      "cell_type": "code",
      "source": [
        "import numpy\n",
        "arr = numpy.array([1, 3, 5, 7, 9])\n",
        "print(arr)"
      ],
      "metadata": {
        "colab": {
          "base_uri": "https://localhost:8080/"
        },
        "id": "S5OJorBvnHYP",
        "outputId": "d0899262-904b-432e-a6ee-2634a030877d"
      },
      "execution_count": null,
      "outputs": [
        {
          "output_type": "stream",
          "name": "stdout",
          "text": [
            "[1 3 5 7 9]\n"
          ]
        }
      ]
    },
    {
      "cell_type": "code",
      "source": [
        "arr = numpy.array([1, 3, 5, 7, 9])\n",
        "print(arr)\n",
        "print(type(arr))"
      ],
      "metadata": {
        "colab": {
          "base_uri": "https://localhost:8080/"
        },
        "id": "mispgsYMqhp2",
        "outputId": "37a9473f-2311-47ef-a2b5-271ea7779c91"
      },
      "execution_count": null,
      "outputs": [
        {
          "output_type": "stream",
          "name": "stdout",
          "text": [
            "[1 3 5 7 9]\n",
            "<class 'numpy.ndarray'>\n"
          ]
        }
      ]
    },
    {
      "cell_type": "code",
      "source": [
        "a=numpy.array([1,2,3])\n",
        "print(a)"
      ],
      "metadata": {
        "colab": {
          "base_uri": "https://localhost:8080/"
        },
        "id": "tUwuKCdiA_it",
        "outputId": "ed42172c-be92-4779-d7f5-fefe5cde3f67"
      },
      "execution_count": null,
      "outputs": [
        {
          "output_type": "stream",
          "name": "stdout",
          "text": [
            "[1 2 3]\n"
          ]
        }
      ]
    },
    {
      "cell_type": "code",
      "source": [
        "import numpy as np\n",
        "arr = np.array(42)\n",
        "print(arr)"
      ],
      "metadata": {
        "colab": {
          "base_uri": "https://localhost:8080/"
        },
        "id": "iuDOe6WMqoXA",
        "outputId": "8cd887eb-1e55-44d1-a122-0358b1f0b174"
      },
      "execution_count": null,
      "outputs": [
        {
          "output_type": "stream",
          "name": "stdout",
          "text": [
            "42\n"
          ]
        }
      ]
    },
    {
      "cell_type": "code",
      "source": [
        "import numpy as np\n",
        "arr=np.array(9)\n",
        "print(arr)"
      ],
      "metadata": {
        "colab": {
          "base_uri": "https://localhost:8080/"
        },
        "id": "lBz7f_qDC2Cp",
        "outputId": "28ce6e43-a80c-41f7-fc1e-d149b3159983"
      },
      "execution_count": null,
      "outputs": [
        {
          "output_type": "stream",
          "name": "stdout",
          "text": [
            "9\n"
          ]
        }
      ]
    },
    {
      "cell_type": "code",
      "source": [
        "import numpy as np\n",
        "arr = np.array([1, 2, 3, 4, 5,8,9,6,77,88,99])\n",
        "print(arr)"
      ],
      "metadata": {
        "colab": {
          "base_uri": "https://localhost:8080/"
        },
        "id": "zeV0fCJQqtb1",
        "outputId": "6f4a1e47-68fc-45a2-ae5e-4cc9bbbbbc10"
      },
      "execution_count": null,
      "outputs": [
        {
          "output_type": "stream",
          "name": "stdout",
          "text": [
            "[ 1  2  3  4  5  8  9  6 77 88 99]\n"
          ]
        }
      ]
    },
    {
      "cell_type": "code",
      "source": [
        "import numpy as np\n",
        "arr=np.array([1,2,3])\n",
        "arr"
      ],
      "metadata": {
        "colab": {
          "base_uri": "https://localhost:8080/"
        },
        "id": "wtvLT0iRDJI6",
        "outputId": "98457d6b-001c-471b-c94b-9acd49149389"
      },
      "execution_count": null,
      "outputs": [
        {
          "output_type": "execute_result",
          "data": {
            "text/plain": [
              "array([1, 2, 3])"
            ]
          },
          "metadata": {},
          "execution_count": 9
        }
      ]
    },
    {
      "cell_type": "code",
      "source": [
        "import numpy as np\n",
        "arr = np.array([[1, 2, 3], [4, 5, 6],[2,4,6]])\n",
        "print(arr)"
      ],
      "metadata": {
        "colab": {
          "base_uri": "https://localhost:8080/"
        },
        "id": "9hgSJfhQqxo-",
        "outputId": "537295ef-ecc6-4ec1-d92b-80781da7a0f3"
      },
      "execution_count": null,
      "outputs": [
        {
          "output_type": "stream",
          "name": "stdout",
          "text": [
            "[[1 2 3]\n",
            " [4 5 6]\n",
            " [2 4 6]]\n"
          ]
        }
      ]
    },
    {
      "cell_type": "code",
      "source": [
        "#import numpy as np\n",
        "a=np.array([[1,2],[2,3]])\n",
        "print(a)"
      ],
      "metadata": {
        "colab": {
          "base_uri": "https://localhost:8080/"
        },
        "id": "eRm3eL4lEH6Y",
        "outputId": "5049ca7f-c698-4ba1-8364-c738d3bc828c"
      },
      "execution_count": null,
      "outputs": [
        {
          "output_type": "stream",
          "name": "stdout",
          "text": [
            "[[1 2]\n",
            " [2 3]]\n"
          ]
        }
      ]
    },
    {
      "cell_type": "code",
      "source": [
        "import numpy as np\n",
        "arr = np.array([[[1, 2, 3], [4, 5, 6]],\n",
        "                [[1, 2, 3], [4, 5, 6]]])\n",
        "\n",
        "print(arr)"
      ],
      "metadata": {
        "colab": {
          "base_uri": "https://localhost:8080/"
        },
        "id": "rpFUQ4cuq1MJ",
        "outputId": "070183c5-b8af-4807-fbae-8d6fa7c47b07"
      },
      "execution_count": null,
      "outputs": [
        {
          "output_type": "stream",
          "name": "stdout",
          "text": [
            "[[[1 2 3]\n",
            "  [4 5 6]]\n",
            "\n",
            " [[1 2 3]\n",
            "  [4 5 6]]]\n"
          ]
        }
      ]
    },
    {
      "cell_type": "code",
      "source": [
        "import numpy as np\n",
        "arr=np.array([[[1,2],[3,4]],\n",
        "              [[5,6],[7,8]],\n",
        "              [[3,4],[6,7]]])\n",
        "print(arr[1,0,0])\n",
        "print(arr.ndim)"
      ],
      "metadata": {
        "colab": {
          "base_uri": "https://localhost:8080/"
        },
        "id": "xrBwI7gKEowq",
        "outputId": "113b814c-d556-425b-f282-50c56effc53e"
      },
      "execution_count": null,
      "outputs": [
        {
          "output_type": "stream",
          "name": "stdout",
          "text": [
            "5\n",
            "3\n"
          ]
        }
      ]
    },
    {
      "cell_type": "code",
      "source": [
        "import numpy as np\n",
        "a = np.array(42)\n",
        "b = np.array([1, 2, 3, 4, 5])\n",
        "c = np.array([[1, 2, 3], [4, 5, 6]])\n",
        "d = np.array([[[1, 2, 3], [4, 5, 6]],\n",
        "              [[1, 2, 3], [4, 5, 6]]])\n",
        "\n",
        "print(a.ndim)\n",
        "print(b.ndim)\n",
        "print(c.ndim)\n",
        "print(d.ndim)"
      ],
      "metadata": {
        "colab": {
          "base_uri": "https://localhost:8080/"
        },
        "id": "vrptxRHOrLbc",
        "outputId": "de5c3917-2476-4af0-ec67-ae9030c6bf8b"
      },
      "execution_count": null,
      "outputs": [
        {
          "output_type": "stream",
          "name": "stdout",
          "text": [
            "0\n",
            "1\n",
            "2\n",
            "3\n"
          ]
        }
      ]
    },
    {
      "cell_type": "code",
      "source": [
        "\n",
        "import numpy as np\n",
        "arr = np.array([[1,2,3,4,5], [6,7,8,9,10]])\n",
        "\n",
        "print('2nd element on 1st row: ', arr[0,4,5])\n"
      ],
      "metadata": {
        "colab": {
          "base_uri": "https://localhost:8080/"
        },
        "id": "s0PbtJCtraCH",
        "outputId": "0edf04dd-0cdf-4c62-9f7a-1a3d30989303"
      },
      "execution_count": null,
      "outputs": [
        {
          "output_type": "stream",
          "name": "stdout",
          "text": [
            "2nd element on 1st row:  5\n"
          ]
        }
      ]
    },
    {
      "cell_type": "code",
      "source": [
        "import numpy as np\n",
        "arr = np.array([1, 2, 3, 4, 5, 6, 7])\n",
        "print(arr.shape)"
      ],
      "metadata": {
        "colab": {
          "base_uri": "https://localhost:8080/"
        },
        "id": "9KT04KvArdgk",
        "outputId": "d65c1b22-f1ba-4f01-c7a1-dbce5c21b9c8"
      },
      "execution_count": null,
      "outputs": [
        {
          "output_type": "stream",
          "name": "stdout",
          "text": [
            "(7,)\n"
          ]
        }
      ]
    },
    {
      "cell_type": "code",
      "source": [
        "import numpy as np\n",
        "arr = np.array([[1, 2, 3, 4], [5, 6, 7, 8]])\n",
        "print(arr.shape)"
      ],
      "metadata": {
        "colab": {
          "base_uri": "https://localhost:8080/"
        },
        "id": "DJ_9MT8YrhLz",
        "outputId": "d71d186c-d1ee-4028-e560-031df464f869"
      },
      "execution_count": null,
      "outputs": [
        {
          "output_type": "stream",
          "name": "stdout",
          "text": [
            "(2, 4)\n"
          ]
        }
      ]
    },
    {
      "cell_type": "code",
      "source": [
        "import numpy as np\n",
        "arr = np.array([1, 2, 3, 4,7,9,4], ndmin=6)\n",
        "\n",
        "print(arr)\n",
        "print('shape of array :', arr.shape)\n"
      ],
      "metadata": {
        "colab": {
          "base_uri": "https://localhost:8080/"
        },
        "id": "9WEUzphKroE3",
        "outputId": "820fa320-b054-46c8-e700-cf0bb7492dfb"
      },
      "execution_count": null,
      "outputs": [
        {
          "output_type": "stream",
          "name": "stdout",
          "text": [
            "[[[[[[1 2 3 4 7 9 4]]]]]]\n",
            "shape of array : (1, 1, 1, 1, 1, 7)\n"
          ]
        }
      ]
    },
    {
      "cell_type": "code",
      "source": [
        "arr = np.array([9, 8, 2, 7, 6, 5, 4, 3, 1])\n",
        "arr[::1]. sort ()\n",
        "print(arr)"
      ],
      "metadata": {
        "colab": {
          "base_uri": "https://localhost:8080/"
        },
        "id": "v59D2KrasBx2",
        "outputId": "0996d18d-4ee1-4078-c926-634a8cbb55ab"
      },
      "execution_count": null,
      "outputs": [
        {
          "output_type": "stream",
          "name": "stdout",
          "text": [
            "[1 2 3 4 5 6 7 8 9]\n"
          ]
        }
      ]
    },
    {
      "cell_type": "code",
      "source": [
        "arr = np.array([9, 8, 2, 7, 6, 5, 4, 3, 1])\n",
        "arr[::-1]. sort ()\n",
        "print(arr)"
      ],
      "metadata": {
        "colab": {
          "base_uri": "https://localhost:8080/"
        },
        "id": "IsIt8uWLzzZG",
        "outputId": "201b038a-1cd3-4234-8b00-0b8d5e9a6cee"
      },
      "execution_count": null,
      "outputs": [
        {
          "output_type": "stream",
          "name": "stdout",
          "text": [
            "[9 8 7 6 5 4 3 2 1]\n"
          ]
        }
      ]
    },
    {
      "cell_type": "code",
      "source": [
        "arr = np.array([9, 8, 2, 7, 6, 5, 4, 3, 1])\n",
        "arr. sort ()\n",
        "print(arr)"
      ],
      "metadata": {
        "colab": {
          "base_uri": "https://localhost:8080/"
        },
        "id": "wKn65S7Qz2e0",
        "outputId": "522b75e1-8909-45cf-a9ab-a1deb697e387"
      },
      "execution_count": null,
      "outputs": [
        {
          "output_type": "stream",
          "name": "stdout",
          "text": [
            "[1 2 3 4 5 6 7 8 9]\n"
          ]
        }
      ]
    },
    {
      "cell_type": "code",
      "source": [
        "import numpy as np\n",
        "arr = np.array([1, 2, 3, 4, 5, 6, 7])\n",
        "arr[::1].sort()\n",
        "print(arr)"
      ],
      "metadata": {
        "colab": {
          "base_uri": "https://localhost:8080/"
        },
        "id": "BpW4mLUtIxN7",
        "outputId": "5840d71e-8759-47e0-ed51-19553d9169c0"
      },
      "execution_count": null,
      "outputs": [
        {
          "output_type": "stream",
          "name": "stdout",
          "text": [
            "[1 2 3 4 5 6 7]\n"
          ]
        }
      ]
    },
    {
      "cell_type": "code",
      "source": [
        "import pandas as pd\n",
        "#pip install pandas\n",
        "a = [1, 7, 2]\n",
        "myvar = pd.Series(a)\n",
        "print(myvar)"
      ],
      "metadata": {
        "colab": {
          "base_uri": "https://localhost:8080/"
        },
        "id": "_mD6O0wMqbeE",
        "outputId": "07c7cc25-cac4-4c7d-a830-40332898b2f1"
      },
      "execution_count": null,
      "outputs": [
        {
          "output_type": "stream",
          "name": "stdout",
          "text": [
            "0    1\n",
            "1    7\n",
            "2    2\n",
            "dtype: int64\n"
          ]
        }
      ]
    },
    {
      "cell_type": "code",
      "source": [
        "import pandas as pd\n",
        "a=[1,2,3,5,6,7]\n",
        "var=pd.Series(a,index=[\"a\",\"b\",\"c\",\"d\",\"e\",\"f\"])\n",
        "print(var)"
      ],
      "metadata": {
        "colab": {
          "base_uri": "https://localhost:8080/"
        },
        "id": "aBS-C8UWLBRY",
        "outputId": "ec6f8ffa-d607-4635-fc19-ad7912ea05ba"
      },
      "execution_count": null,
      "outputs": [
        {
          "output_type": "stream",
          "name": "stdout",
          "text": [
            "a    1\n",
            "b    2\n",
            "c    3\n",
            "d    5\n",
            "e    6\n",
            "f    7\n",
            "dtype: int64\n"
          ]
        }
      ]
    },
    {
      "cell_type": "code",
      "source": [
        "a = [1, 7, 2]\n",
        "myvar = pd.Series(a, index = [\"x\", \"y\", \"z\"])\n",
        "print(myvar)"
      ],
      "metadata": {
        "colab": {
          "base_uri": "https://localhost:8080/"
        },
        "id": "qqc5L5gGqeXe",
        "outputId": "30e9f23c-053d-4300-a94f-2eef4950fe96"
      },
      "execution_count": null,
      "outputs": [
        {
          "output_type": "stream",
          "name": "stdout",
          "text": [
            "x    1\n",
            "y    7\n",
            "z    2\n",
            "dtype: int64\n"
          ]
        }
      ]
    },
    {
      "cell_type": "code",
      "source": [
        "calories = {\"day1\": 420, \"day2\": 380, \"day3\": 390}\n",
        "\n",
        "myvar = pd.Series(calories)\n",
        "\n",
        "print(myvar)\n"
      ],
      "metadata": {
        "colab": {
          "base_uri": "https://localhost:8080/"
        },
        "id": "jqZuQXklqoYq",
        "outputId": "d9fe5fb4-a82b-4bdd-f3f7-d1049cd0f83e"
      },
      "execution_count": null,
      "outputs": [
        {
          "output_type": "stream",
          "name": "stdout",
          "text": [
            "day1    420\n",
            "day2    380\n",
            "day3    390\n",
            "dtype: int64\n"
          ]
        }
      ]
    },
    {
      "cell_type": "code",
      "source": [
        "cal = {\"day1\": 420, \"day2\": 38}\n",
        "\n",
        "a = pd.Series(cal)\n",
        "\n",
        "print(a)"
      ],
      "metadata": {
        "colab": {
          "base_uri": "https://localhost:8080/"
        },
        "id": "fAkYloEpM8za",
        "outputId": "2a1196b8-1325-48bb-fd10-6e3eba92e24d"
      },
      "execution_count": null,
      "outputs": [
        {
          "output_type": "stream",
          "name": "stdout",
          "text": [
            "day1    420\n",
            "day2     38\n",
            "dtype: int64\n"
          ]
        }
      ]
    },
    {
      "cell_type": "code",
      "source": [
        "data = {\n",
        "  \"calories\": [420, 380, 390],\n",
        "  \"duration\": [50, 40, 45]\n",
        "}\n",
        "\n",
        "d = pd.DataFrame(data)\n",
        "\n",
        "print(d)\n"
      ],
      "metadata": {
        "colab": {
          "base_uri": "https://localhost:8080/"
        },
        "id": "s7iGSDPnqrxO",
        "outputId": "dac2be96-5ff9-4ccf-e187-b988bc19cf4a"
      },
      "execution_count": null,
      "outputs": [
        {
          "output_type": "stream",
          "name": "stdout",
          "text": [
            "   calories  duration\n",
            "0       420        50\n",
            "1       380        40\n",
            "2       390        45\n"
          ]
        }
      ]
    },
    {
      "cell_type": "code",
      "source": [
        "cal = {\n",
        "  \"calories\": [420, 380, 390],\n",
        "  \"duration\": [50, 40,56]\n",
        "}\n",
        "\n",
        "dfm = pd.DataFrame(cal)\n",
        "\n",
        "print(dfm)"
      ],
      "metadata": {
        "colab": {
          "base_uri": "https://localhost:8080/"
        },
        "id": "F-DNQYvXNjSj",
        "outputId": "7ba341d9-d3d7-4bb4-8ee3-6cb3e9b882f9"
      },
      "execution_count": null,
      "outputs": [
        {
          "output_type": "stream",
          "name": "stdout",
          "text": [
            "   calories  duration\n",
            "0       420        50\n",
            "1       380        40\n",
            "2       390        56\n"
          ]
        }
      ]
    },
    {
      "cell_type": "code",
      "source": [
        "data = {\n",
        "  \"calories\": [420, 380, 390],\n",
        "  \"duration\": [50, 40, 45]\n",
        "}\n",
        "\n",
        "df = pd.DataFrame(data)\n",
        "\n",
        "print(df.loc[2])\n"
      ],
      "metadata": {
        "colab": {
          "base_uri": "https://localhost:8080/"
        },
        "id": "b3EjjyhDquso",
        "outputId": "c6791a28-1b7d-4d5b-e309-e3aa9007669e"
      },
      "execution_count": null,
      "outputs": [
        {
          "output_type": "stream",
          "name": "stdout",
          "text": [
            "calories    390\n",
            "duration     45\n",
            "Name: 2, dtype: int64\n"
          ]
        }
      ]
    },
    {
      "cell_type": "code",
      "source": [
        "data = {\n",
        "  \"calories\": [420, 380, 390,6778,78],\n",
        "  \"duration\": [50, 40, 45,900,78]\n",
        "}\n",
        "\n",
        "df = pd.DataFrame(data)\n",
        "\n",
        "print(df.loc[3])\n"
      ],
      "metadata": {
        "colab": {
          "base_uri": "https://localhost:8080/"
        },
        "id": "nw5yUVeuOD98",
        "outputId": "ea59f675-0e05-40b9-a8d7-2e20cf44065a"
      },
      "execution_count": null,
      "outputs": [
        {
          "output_type": "stream",
          "name": "stdout",
          "text": [
            "calories    6778\n",
            "duration     900\n",
            "Name: 3, dtype: int64\n"
          ]
        }
      ]
    },
    {
      "cell_type": "code",
      "source": [],
      "metadata": {
        "id": "vR9o2EsSP30T"
      },
      "execution_count": null,
      "outputs": []
    }
  ]
}